{
 "cells": [
  {
   "cell_type": "markdown",
   "id": "greek-inside",
   "metadata": {},
   "source": [
    "# Intercambiabilidad\n",
    "\n",
    "Juan Sosa PhD\n",
    "\n",
    "Email jcsosam@unal.edu.co\n",
    "\n",
    "GitHub https://github.com/jstats1702"
   ]
  },
  {
   "cell_type": "markdown",
   "id": "stuck-mobility",
   "metadata": {},
   "source": [
    "## 1 Introducción\n",
    "\n",
    "La inferencia Bayesiana sobre $\\boldsymbol{\\theta}$ requiere que Usted especifique de manera inequívoca una distribución conjunta $p(\\boldsymbol{y}, \\boldsymbol{\\theta})$ que represente Su estado de información acerca de $\\boldsymbol{\\theta}$ y $\\boldsymbol{y}$ simultáneamente.\n",
    "\n",
    "La forma natural de especificar $p(\\boldsymbol{y}, \\boldsymbol{\\theta})$ es a partir de la factorización \n",
    "$$p(\\boldsymbol{y}, \\boldsymbol{\\theta}) = p(\\boldsymbol{y}\\mid\\boldsymbol{\\theta})\\,p(\\boldsymbol{\\theta})\\,,$$\n",
    "donde:\n",
    "\n",
    "- $p(\\boldsymbol{\\theta})$ caracteriza Sus creencias acerca de $\\boldsymbol{\\theta}$.\n",
    "- $p(\\boldsymbol{y}\\mid\\boldsymbol{\\theta})$ caracteriza Sus creencias acerca de $\\boldsymbol{y}$ para cada $\\boldsymbol{\\theta}\\in\\Theta$.\n",
    "\n",
    "Una vez se ha observado $\\boldsymbol{y}$, se calcula la **distribución posterior** de $\\boldsymbol{\\theta}$,\n",
    "$$\n",
    "p(\\boldsymbol{\\theta}\\mid \\boldsymbol{y}) = \\frac{p(\\boldsymbol{\\theta},\\boldsymbol{y})}{p(\\boldsymbol{y})} = \\frac{p(\\boldsymbol{y}\\mid\\boldsymbol{\\theta})\\,p(\\boldsymbol{\\theta})}{\\int_\\Theta p(\\boldsymbol{y}\\mid\\boldsymbol{\\theta})\\,p(\\boldsymbol{\\theta})\\,\\text{d}\\boldsymbol{\\theta}}\\propto p(\\boldsymbol{y}\\mid\\boldsymbol{\\theta})\\,p(\\boldsymbol{\\theta})\\,,\n",
    "$$\n",
    "que caracteriza Sus creencias *actualizadas* acerca de $\\boldsymbol{\\theta}$, para $\\boldsymbol{y}$ fijo.\n",
    "\n"
   ]
  },
  {
   "cell_type": "markdown",
   "id": "eight-citizen",
   "metadata": {},
   "source": [
    "## 2 Independencia condicional\n",
    "\n",
    "Suponga que $y_1,\\ldots,y_n$ son variables aleatorias y que $\\boldsymbol{\\theta}$ es un parámetro que caracteriza las condiciones bajo las cuales se generan estas variables. \n",
    "\n",
    "**(Definición.)** Las variables aleatorias $y_1,\\ldots,y_n$ se denominan **independientes condicionalmente** dado $\\boldsymbol{\\theta}$, si para cualquier colección de $n$ conjuntos $A_1,\\ldots,A_n$ se tiene que\n",
    "$$\n",
    "\\textsf{Pr}(y_1\\in A_1,\\ldots,y_n\\in A_n\\mid\\boldsymbol{\\theta}) = \\textsf{Pr}(y_1\\in A_1\\mid\\boldsymbol{\\theta})\\times\\ldots\\times\\textsf{Pr}(y_n\\in A_n\\mid\\boldsymbol{\\theta})\\,.\n",
    "$$\n",
    "\n",
    "La independencia condicional se puede interpretar en el sentido de que $y_j$ no proporciona información adicional sobre $y_i$ más allá de aquella contenida en $\\boldsymbol{\\theta}$, dado que\n",
    "$$\n",
    "\\textsf{Pr}(y_i\\in A_i\\mid\\boldsymbol{\\theta},y_j\\in A_j) = \\textsf{Pr}(y_i\\in A_i\\mid\\boldsymbol{\\theta})\n",
    "$$\n",
    "\n",
    "Bajo el supuesto de **independencia condicional** se tiene que la distribución condicional conjunta es el producto de las distribuciones marginales correspondientes:\n",
    "$$\n",
    "p(\\boldsymbol{y}\\mid\\boldsymbol{\\theta}) = p(y_1,\\ldots,y_n\\mid\\boldsymbol{\\theta}) = p(y_1\\mid\\boldsymbol{\\theta})\\times\\ldots\\times p(y_n\\mid\\boldsymbol{\\theta})\n",
    "$$\n",
    "\n",
    "\n",
    "Además, si las variables aleatorias $y_1,\\ldots,y_n$ se generan a partir de un **proceso común**, entonces:\n",
    "$$\n",
    "p(\\boldsymbol{y}\\mid\\boldsymbol{\\theta}) = \\prod_{i=1}^n p(y_i\\mid\\boldsymbol{\\theta})\\,,\n",
    "$$\n",
    "en cuyo caso se dice que $y_1,\\ldots,y_n$ son **condicionalmente independientes e idénticamente distribuidas**, lo que se denota con \n",
    "$$\n",
    "        y_i\\mid\\boldsymbol{\\theta} \\stackrel{\\text{iid}}{\\sim} p(y_i\\mid\\boldsymbol{\\theta})\\,,\\qquad i=1,\\ldots,n\\,.\n",
    "$$\n",
    "\n"
   ]
  },
  {
   "cell_type": "markdown",
   "id": "civic-simpson",
   "metadata": {},
   "source": [
    "## 3 Intercambiabilidad\n",
    "\n",
    "Si Usted no tiene información relevante que distinga un individuo de otro, entonces Su incertidumbre acerca de las variables aleatorias $y_1,\\ldots,y_n$ es **simétrica**, en el sentido de que cualquier permutación del orden en el que se etiqueten las variables deja Su incertidumbre sobre ellas sin cambios.\n",
    "\n",
    "**(Definición.)** Sea $p(y_1,\\ldots,y_n)$ la distribución marginal conjunta de $y_1,\\ldots,y_n$. Si \n",
    "$$\n",
    "        p(y_1,\\ldots,y_n) = p(y_{\\pi(1)},\\ldots,y_{\\pi(n)})\n",
    "$$ \n",
    "para toda permutación $\\pi(\\cdot)$ de $\\{1,\\ldots,n\\}$, entonces se dice que $y_1,\\ldots,y_n$ son **intercambiables**.\n",
    "\n",
    "Las variables aleatorias $y_1,\\ldots,y_n$ se denominan intercambiables si los **subíndices no conllevan información** sobre los resultados de $p(y_1,\\ldots,y_n)$. \n",
    "\n",
    "**El mundo no es intercambiable**, lo que es intercambiable es Su estado de información acerca del mundo.\n",
    "\n",
    "**(Proposición.)** Si las variables aleatorias $y_1,\\ldots,y_n$ son condicionalmente independientes dado $\\boldsymbol{\\theta}$, entonces $y_1,\\ldots,y_n$ son intercambiables. \n",
    "\n"
   ]
  },
  {
   "cell_type": "markdown",
   "id": "average-alfred",
   "metadata": {},
   "source": [
    "## 4 Teorema de representación de de Finetti\n",
    "\n",
    "**(Teorema.)** Sea $y_1,y_2,\\ldots$ una secuencia infinita de variables aleatorias definida sobre el mismo espacio de resultados $\\mathcal{Y}$. Si $y_1,\\ldots,y_n$ son intercambiables para todo $n$, entonces la distribución marginal conjunta de $y_1,\\ldots,y_n$ se puede escribir como\n",
    "$$\n",
    "p(\\boldsymbol{y}) = p(y_1,\\ldots,y_n) = \\int_\\Theta \\left\\{\\prod_{i=1}^n p(y_i\\mid\\boldsymbol{\\theta})\\right\\}\\,p(\\boldsymbol{\\theta})\\,\\text{d}\\boldsymbol{\\theta}\\,,\n",
    "$$\n",
    "para algún parámetro $\\boldsymbol{\\theta}$, alguna distribución previa $p(\\boldsymbol{\\theta})$, y alguna distribución muestral común $p(\\cdot\\mid\\boldsymbol{\\theta})$.\n",
    "\n",
    "\n",
    "Usted puede modelar el comportamiento de $\\boldsymbol{y}$ directamente, a través de $p(\\boldsymbol{y})$, o **jerárquicamente**, modelando primero el comportamiento de $\\boldsymbol{\\theta}$, a través de $p(\\boldsymbol{\\theta})$, y luego modelando el comportamiento condicional de $\\boldsymbol{y}$ dado $\\boldsymbol{\\theta}$, a través de $\\prod_{i=1}^n p(y_i\\mid\\boldsymbol{\\theta})$, es decir:\n",
    "$$\n",
    "\\boldsymbol{y}\\sim p(\\boldsymbol{y}) \\Longleftrightarrow \n",
    "\\boldsymbol{\\theta}\\sim p(\\boldsymbol{\\theta})\\quad\\text{y}\\quad \n",
    "y_i\\mid\\boldsymbol{\\theta} \\stackrel{\\text{iid}}{\\sim} p(y_i\\mid\\boldsymbol{\\theta})\n",
    "$$\n",
    "y por lo tanto,\n",
    "$$\n",
    "\\text{$y_i$ son intercambiables} \\Longleftrightarrow \\text{$y_i$ son condicionalmente iid dado $\\boldsymbol{\\theta}$}\n",
    "$$\n",
    "\n",
    "**Los modelos Bayesianos son intrínsecamente jerárquicos**.\n",
    "\n",
    "Aunque en la práctica Usted solo va a observar $y_1,\\ldots,y_n$, el teorema de de Finetti requiere **extender la intercambiabilidad finita a una secuencia infinita numerable** $y_1,y_2,\\ldots$, lo que equivale a considerar $y_1,\\ldots,y_n$ como una **muestra aleatoria** de una *población* $y_1,y_2,\\ldots$. \n",
    "\n",
    "La dificultad surge con la falta de claridad sobre el **alcance de la generalización** a partir de un conjunto de datos, lo cual constituye un **problema científico fundamental** tanto desde el punto de vista Frecuentista como Bayesiano.\n"
   ]
  },
  {
   "cell_type": "markdown",
   "id": "6eba32f0",
   "metadata": {},
   "source": [
    "## 9 Referencias\n",
    "\n",
    "![Hoff](Hoffcoverbook.jpg)\n",
    "\n",
    "![Gelman](Gelmancoverbook.png)"
   ]
  }
 ],
 "metadata": {
  "kernelspec": {
   "display_name": "Python 3 (ipykernel)",
   "language": "python",
   "name": "python3"
  },
  "language_info": {
   "codemirror_mode": {
    "name": "ipython",
    "version": 3
   },
   "file_extension": ".py",
   "mimetype": "text/x-python",
   "name": "python",
   "nbconvert_exporter": "python",
   "pygments_lexer": "ipython3",
   "version": "3.9.7"
  }
 },
 "nbformat": 4,
 "nbformat_minor": 5
}
