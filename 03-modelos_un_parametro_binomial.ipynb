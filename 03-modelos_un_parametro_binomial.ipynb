{
 "cells": [
  {
   "cell_type": "markdown",
   "id": "5cd19bfc-dd94-4b0d-943a-7543f1643e63",
   "metadata": {},
   "source": [
    "# Modelo Binomial\n",
    "\n",
    "Juan Sosa PhD\n",
    "\n",
    "Email:   jcsosam@unal.edu.co\n",
    "\n",
    "GitHub:  https://github.com/jstats1702 "
   ]
  },
  {
   "cell_type": "code",
   "execution_count": 65,
   "id": "411fe4de-227e-4f0e-9a77-af06daa95028",
   "metadata": {},
   "outputs": [],
   "source": [
    "import pandas as pd\n",
    "import numpy as np\n",
    "import matplotlib.pyplot as plt\n",
    "from scipy.stats import beta\n",
    "from tabulate import tabulate"
   ]
  },
  {
   "cell_type": "markdown",
   "id": "03eb8450-30fd-4f0f-8eb5-f3865cd1628a",
   "metadata": {},
   "source": [
    "# Modelo\n",
    "\n",
    "El modelo para **variables binarias** $y_i\\in \\{0,1\\}$, con $i = 1,\\ldots,n$, está dado por\n",
    "$$\n",
    "\\begin{align*}\n",
    "y_i\\mid\\theta &\\stackrel{\\text{iid}}{\\sim}\\textsf{Ber}(\\theta) \\\\\n",
    "\\theta &\\sim p(\\theta)\n",
    "\\end{align*}\n",
    "$$\n",
    "donde $\\theta\\in\\Theta =(0,1)$.\n",
    "\n",
    "La **distribución muestral** de $\\boldsymbol{y} = (y_1,\\ldots,y_n)$ dado $\\theta$ es\n",
    "$$\n",
    "p(\\boldsymbol{y}\\mid\\theta) = \\prod_{i=1}^n \\theta^{y_i}(1-\\theta)^{1-y_i} = \\theta^{y}(1-\\theta)^{n - y}\\,,\n",
    "$$\n",
    "donde $y = \\sum_{i=1}^n y_i$. \n",
    "\n",
    "Esta expresión sugiere que $y$ es un **estadístico suficiente** para $\\theta$ ($y$ contiene toda la información de los datos para hacer inferencia sobre $\\theta$). \n",
    "\n",
    "Sea $y_1,\\ldots,y_n$ una secuencia de variables aleatorias con distribución de probabilidad $f_\\theta(y_1,\\ldots,y_n)$ que depende de un parámetro desconocido $\\theta$. Se dice que el estadístico $t=t(y_1,\\ldots,y_n)$ es un **estadístico suficiente** para $\\theta$ si la distribución condicional de $y_1,\\ldots,y_n$ dado $t$ no depende de $\\theta$.\n",
    "\n",
    "**(Teorema de Factorización de Fisher-Neyman.)** $t(y_1,\\ldots,y_n)$ es un **estadístico suficiente** para $\\theta$ si y sólo si se pueden encontrar dos funciones no negativas $h$ y $g_\\theta$ tales que $f_\\theta(y_1,\\ldots,y_n) = h(y_1,\\ldots,y_n)\\,g_\\theta(t(y_1,\\ldots,y_n))$.\n",
    "\n",
    "En este caso,  \n",
    "$$\n",
    "p(\\boldsymbol{y}\\mid\\theta) = \\theta^y (1 - \\theta)^{n - y},\n",
    "$$  \n",
    "donde $h(\\boldsymbol{y}) = 1$ y $g_\\theta(s) = \\theta^y (1 - \\theta)^{n - y}$.  \n",
    "\n",
    "Dado que esta factorización satisface el criterio, $y$ es suficiente para $\\theta$ en el modelo Binomial.\n",
    "\n",
    "Dado que las $y_i$ son condicionalmente i.i.d. dado $\\theta$ y $y$ es un estadístico suficiente para $\\theta$, entonces se tiene el modelo equivalente\n",
    "$$\n",
    "\\begin{align*}\n",
    "y\\mid\\theta &\\sim \\textsf{Bin}(n,\\theta) \\\\\n",
    "\\theta &\\sim p(\\theta) \n",
    "\\end{align*}\n",
    "$$\n",
    "donde $y\\in\\mathcal{Y}=\\{0,\\ldots,n\\}$.\n",
    "\n",
    "# Familias conjugadas\n",
    "\n",
    "Una familia de distribuciones $\\mathcal{P}$ es **conjugada** para la distribución muestral $p(\\boldsymbol{y}\\mid\\boldsymbol{\\theta})$, siempre que $p(\\boldsymbol{\\theta}\\mid \\boldsymbol{y}) \\in \\mathcal{P}$ cuando $p(\\boldsymbol{\\theta}) \\in \\mathcal{P}$.\n",
    "\n",
    "Las previas conjugadas conllevan a **cálculos fáciles de realizar**, pero pueden ser **poco flexibles** para representar información previa.\n",
    "\n",
    "Sea $y$ una variable aleatoria cuya distribución de probabilidad depende de un solo parámetro $\\phi$. Se dice que esta distribución pertenece a la **familia exponencial de un parámetro** si la función de densidad de probabilidad (función de masa de probabilidad) de $y$ se puede expresar como\n",
    "$$\n",
    "p(y\\mid\\phi) = h(y)\\,c(\\phi)\\exp{ \\left\\{ \\phi\\,t(y) \\right\\} }\n",
    "$$\n",
    "donde $h$, $c$ y $t$ son funciones conocidas.\n",
    "\n",
    "Para distribuciones muestrales pertenecientes la familia exponencial de un parámetro, la **distribución previa conjugada** es de la forma\n",
    "$$\n",
    "p(\\phi) \\propto \\,c(\\phi)^{n_0}\\exp{ \\left\\{ \\phi\\,n_0\\,t_0 \\right\\} }\n",
    "$$\n",
    "dado que\n",
    "$$\n",
    "p(\\phi\\mid\\boldsymbol{y}) \\propto c(\\phi)^{n_0 + n} \\exp{ \\left\\{ \\phi\\left[\\,n_0\\,t_0 + n\\,t(\\boldsymbol{y}) \\right] \\right\\} }\n",
    "$$\n",
    "donde $t(\\boldsymbol{y}) = \\frac{1}{n}\\sum_{i=1}^n t(y_i)$. Bajo esta formulación, $n_0$ es una medida de cuán informativa es la distribución previa y $t_0$ es el valor esperado previo de $t(y)$.\n",
    "\n",
    "En el caso de $y\\mid\\theta\\sim\\textsf{Ber}(\\theta)$, se tiene que\n",
    "$$\n",
    "\\phi = \\log\\left(\\frac{\\theta}{1-\\theta}\\right)\\,,\\qquad\n",
    "t(y) = y\\,,\\qquad\n",
    "h(y) = 1\\,,\\qquad\n",
    "c(\\phi) = (1+e^\\phi)^{-1}\\,,\n",
    "$$\n",
    "dado que\n",
    "$$\n",
    "p(y \\mid \\theta) = \\theta^y (1 - \\theta)^{1 - y} = \\exp { \\left( y \\log \\frac{\\theta}{1 - \\theta} + \\log (1 - \\theta) \\right) },\n",
    "$$\n",
    "de donde,\n",
    "$$\n",
    "p(\\phi) \\propto (1+e^\\phi)^{-n_0}e^{ \\phi\\,n_0\\,t_0  }\n",
    "\\quad\\Longleftrightarrow\\quad\n",
    "p(\\theta) \\propto \\theta^{n_0t_0 - 1}(1-\\theta)^{n_0(1-t_0) - 1}\n",
    "\\quad\\Longleftrightarrow\\quad \\theta\\sim\\textsf{Beta}(n_0t_0,n_0(1-t_0))\\,.\n",
    "$$\n",
    "\n",
    "# Modelo Beta-Binomial \n",
    "\n",
    "La familia de distribuciones **Beta** es **conjugada** para la distribución muestral **Binomial**.\n",
    "\n",
    "El **modelo Beta-Binomial** es\n",
    "$$\n",
    "\\begin{align*}\n",
    "y\\mid\\theta &\\sim \\textsf{Bin}(n,\\theta) \\\\\n",
    "\\theta &\\sim \\textsf{Beta}(a,b)\n",
    "\\end{align*}\n",
    "$$\n",
    "donde $a$ y $b$ son los **hiperparámetros** del modelo (se eligen de tal forma que $p(\\theta)$ refleje el estado de información acerca de $\\theta$ externo al conjunto de datos). \n",
    "\n",
    "## Distribución posterior\n",
    "\n",
    "La **distribución posterior** de $\\theta$ es\n",
    "$$\n",
    "\\begin{align*}\n",
    "p(\\theta\\mid y) &\\propto p(\\theta\\mid y)\\,p(\\theta) \\\\\n",
    "&= \\binom{n}{y} \\theta^y (1 - \\theta)^{n-y}\\,\\frac{\\Gamma(a+b)}{\\Gamma(a)\\Gamma(b)} \\theta^{a-1} (1 - \\theta)^{b-1} \\\\\n",
    "&\\propto \\theta^{a + y - 1} (1 - \\theta)^{b + n - y -1}\n",
    "\\end{align*}\n",
    "$$\n",
    "lo que corresponde al núcleo de una distribución Beta con parámetros $a + y$ y $b + n - y$, de donde\n",
    "$$\n",
    "\\theta\\mid y \\sim \\textsf{Beta}(\\theta \\mid a + y, b+n-y)\\,.\n",
    "$$\n",
    "\n",
    "## Distribución marginal\n",
    "\n",
    "La **distribución marginal** de $y$ es\n",
    "$$\n",
    "\\begin{align*}\n",
    "p(y) &= \\int_\\Theta p(y\\mid\\theta)\\,p(\\theta)\\,\\text{d}\\theta \\\\\n",
    "&= \\int_0^1 \\binom{n}{y} \\theta^y (1 - \\theta)^{n-y}\\,\\frac{\\Gamma(a+b)}{\\Gamma(a)\\Gamma(b)} \\theta^{a-1} (1 - \\theta)^{b-1}\\,\\text{d}\\theta \\\\\n",
    "&= \\binom{n}{y} \\frac{\\Gamma(a+b)}{\\Gamma(a)\\Gamma(b)} \\int_0^1 \\theta^{a + y - 1} (1 - \\theta)^{b + n - y -1}\\, \\text{d}\\theta \\\\ \n",
    "&= \\binom{n}{y} \\frac{\\Gamma(a+b)}{\\Gamma(a)\\Gamma(b)} \\frac{\\Gamma(a+y)\\,\\Gamma(b+n-y)}{\\Gamma(a+b+n)}\n",
    "\\end{align*}\n",
    "$$\n",
    "y por lo tanto,\n",
    "$$\n",
    "p(y) = \\frac{\\Gamma(n+1)}{\\Gamma(y+1)\\Gamma(n-y+1)}\\,\\frac{\\Gamma(a+b)}{\\Gamma(a)\\,\\Gamma(b)}\\,\\frac{\\Gamma(a+y)\\,\\Gamma(b+n-y)}{\\Gamma(a+b+n)}\\,,\\quad y\\in\\{0,\\ldots,n\\}\\,.\n",
    "$$\n",
    "\n",
    "Esta distribución se conoce como **distribución Beta Binomial** con parámetros $n\\in\\mathbb{N}$, $a>0$ y $b>0$, lo que se denota con $y\\sim\\textsf{Beta-Binomial}(n,a,b)$. \n",
    "\n",
    "Esta distribución es un promedio ponderado (mezcla) de distribuciones Binomiales, ponderadas por la distribución Beta.   \n",
    "\n",
    "## Media posterior \n",
    "\n",
    "La **media posterior** es\n",
    "$$\n",
    "\\textsf{E}(\\theta\\mid y) = \\frac{a+y}{a+b+n} = \\frac{a+b}{a+b+n}\\cdot\\frac{a}{a+b}+\\frac{n}{a+b+n}\\cdot\\frac{y}{n}\\,,\n",
    "$$\n",
    "la cual es un **promedio ponderado** de la media previa $\\textsf{E}(\\theta) = \\frac{a}{a+b}$ y la media muestral $\\bar{y} = \\frac{y}{n}$ con pesos proporcionales a $a+b$ y $n$, respectivamente. \n",
    "\n",
    "Esta expresión conlleva a la siguiente interpretación de los hiperparámetros: \n",
    "\n",
    "- $a+b$ = tamaño muestral previo.\n",
    "- $a$ = número previo de 1's.\n",
    "- $b$ = número previo de 0's. \n",
    "- Si $n >> a+b$, entonces la mayoría de la información proviene de los datos en lugar de la información previa. \n",
    "\n",
    "## Predicción\n",
    "\n",
    "La **distribución predictiva posterior** de una observación futura $y^*\\in\\{0,1\\}$ es \n",
    "$$\n",
    "\\begin{align*}\n",
    "\\textsf{Pr}(y^* = 1\\mid y) &= \\int_\\Theta p(y^* = 1\\mid \\theta)\\,p(\\theta\\mid y)\\,\\text{d}\\theta \\\\\n",
    "&= \\int_0^1 \\theta^1 (1-\\theta)^{1 - 1}\\, \\frac{\\Gamma(a+b+n)}{\\Gamma(a+y)\\,\\Gamma(b+n-y)} \\, \\theta^{a + y - 1} (1 - \\theta)^{b + n - y}\\, \\text{d}\\theta \\\\\n",
    "&= \\frac{\\Gamma(a+b+n)}{\\Gamma(a+y)\\,\\Gamma(b+n-y)} \\int_0^1 \\theta^{a + y + 1 - 1} (1 - \\theta)^{b + n - y-1}\\, \\text{d}\\theta \\\\\n",
    "&= \\frac{\\Gamma(a+b+n)}{\\Gamma(a+y)\\,\\Gamma(b+n-y)} \\frac{\\Gamma(a+y+1)\\Gamma(b+n-y)}{\\Gamma(a+b+n+1)}\n",
    "\\end{align*}\n",
    "$$\n",
    "y por lo tanto,\n",
    "$$\n",
    "y^*\\mid y \\sim \\textsf{Ber}\\left( \\frac{a+y}{a+b+n} \\right)\\,.\n",
    "$$\n",
    "\n",
    "La distribución predictiva posterior **depende únicamente** de los hiperparámetros y de los datos observados, sin involucrar cantidades desconocidas. Por lo tanto, $y^*$ **no es independiente** de $y$, ya que observar $y$ proporciona información sobre $\\theta$, lo que a su vez **afecta** la distribución de $y^*$.\n",
    "\n",
    "## Intervalos de credibilidad\n",
    "\n",
    "Se quiere identificar **regiones del espacio de parámetros** que con alta probabilidad contengan el valor del parámetro de interés.\n",
    "\n",
    "Se dice que el **intervalo de credibilidad**  $(l,u)$ tiene una **cobertura Bayesiana** del $100(1-\\alpha)\\%$ para $\\theta$, con $0 < \\alpha < 1$, si\n",
    "$$\n",
    "\\textsf{Pr}(l < \\theta < u\\mid\\boldsymbol{y}) = 1-\\alpha\\,.\n",
    "$$\n",
    "\n",
    "Este intervalo describe el estado de información acerca de la localización de $\\theta$ **después** de observar los datos.\n",
    "\n",
    "Esta interpretación es radicalmente diferente de la **cobertura frecuentista**, la cual describe la probabilidad de que el intervalo pase por el valor verdadero de $\\theta$ **antes** de observar los datos.\n",
    "\n",
    "La manera más sencilla de obtener intervalos de credibilidad es por medio de los **percentiles de la distribución posterior** de forma que\n",
    "$$\n",
    "\\textsf{Pr}\\left(\\theta_{\\alpha/2} < \\theta < \\theta_{1-\\alpha/2}\\mid \\boldsymbol{y}\\right) = 1-\\alpha\\,.\n",
    "$$\n",
    "\n",
    "**(Teorema.)** Si un intervalo de credibilidad tiene un nivel de confianza Bayesiano de $100(1-\\alpha)\\%$, entonces este intervalo tiene asintóticamente un nivel de confianza frecuentista de $100(1-\\alpha)\\%$ (Hartigan, 1966)."
   ]
  },
  {
   "cell_type": "markdown",
   "id": "afa01177-db3a-4343-b720-84c654d90eab",
   "metadata": {},
   "source": [
    "# Ejemplo: Víctimas violencia sexual\n",
    "\n",
    "Datos de las víctimas de violencia sexual suministrados por el **Observatorio de Memoria y Conflicto** y el **Centro Nacional de Memoria Histórica** disponibles en este [enlace](https://micrositios.centrodememoriahistorica.gov.co/observatorio/portal-de-datos/base-de-datos/).\n",
    "\n",
    "Se quiere hacer inferencia sobre la **proporción poblacional de mujeres victimas de violencia sexual en 2016** $\\theta$ por medio de un **modelo Beta-Binomial** con una **distribución previa no informativa**.\n",
    "\n",
    "De acuerdo con [Semana](https://www.semana.com/nacion/articulo/el-918-de-los-abusos-sexuales-en-colombia-pertenecen-a-mujeres/202212/), el **91.8%** de los abusos sexuales en Colombia pertenecen a mujeres. ¿Los datos en 2016 apoyan esta afirmación?\n",
    "\n",
    "## Tratamiento de datos\n",
    "\n",
    "Se define $y_i = 1$ si el individuo $i$ es mujer, y $y_i = 0$ en caso contrario, para $i = 1,\\ldots,n$."
   ]
  },
  {
   "cell_type": "code",
   "execution_count": 11,
   "id": "a86529e8-3f1e-4027-afab-17ccdc19b38c",
   "metadata": {},
   "outputs": [],
   "source": [
    "# Datos\n",
    "df = pd.read_csv(\"victimas.txt\", sep=\"\\t\")"
   ]
  },
  {
   "cell_type": "code",
   "execution_count": 15,
   "id": "6388d08b-e0d9-45c4-ac4b-db8b9c8a4e46",
   "metadata": {},
   "outputs": [
    {
     "name": "stdout",
     "output_type": "stream",
     "text": [
      "(15886, 18)\n"
     ]
    }
   ],
   "source": [
    "# Dimensión\n",
    "print(df.shape)  # (filas, columnas)"
   ]
  },
  {
   "cell_type": "code",
   "execution_count": 19,
   "id": "c359278e-1c6e-4886-90ba-7719434781d3",
   "metadata": {},
   "outputs": [
    {
     "name": "stdout",
     "output_type": "stream",
     "text": [
      "['id_caso', 'codigo_dane_municipio', 'municipio', 'departamento', 'agno', 'mes', 'dia', 'id_persona', 'sexo', 'etnia', 'ocupacion', 'calidad_victima', 'tipo_poblacion', 'militante_politico', 'grupo_armado', 'descripcion_grupo_armado', 'situacion_victima', 'edad']\n"
     ]
    }
   ],
   "source": [
    "# Variables\n",
    "print(df.columns.tolist())"
   ]
  },
  {
   "cell_type": "code",
   "execution_count": 23,
   "id": "87e2ca72-ec7a-44dc-bcb7-7e6f7a1248c1",
   "metadata": {},
   "outputs": [
    {
     "name": "stdout",
     "output_type": "stream",
     "text": [
      "sexo\n",
      "Mujer              14378\n",
      "Hombre              1481\n",
      "Sin Informacion       27\n",
      "Name: count, dtype: int64\n"
     ]
    }
   ],
   "source": [
    "# Frecuencias de la variable 'sexo'\n",
    "print(df['sexo'].value_counts())"
   ]
  },
  {
   "cell_type": "code",
   "execution_count": 25,
   "id": "cf606278-e371-4ecf-9abd-b99b9358fa49",
   "metadata": {},
   "outputs": [
    {
     "name": "stdout",
     "output_type": "stream",
     "text": [
      "0.0016996097192496537\n"
     ]
    }
   ],
   "source": [
    "# Proporción de datos faltantes (27 valores faltantes entre 15886 observaciones)\n",
    "print(27 / 15886)"
   ]
  },
  {
   "cell_type": "code",
   "execution_count": 27,
   "id": "58b6e3f3-bfb5-454a-9d89-3d431efb6c9f",
   "metadata": {},
   "outputs": [
    {
     "name": "stdout",
     "output_type": "stream",
     "text": [
      "sexo\n",
      "1    69\n",
      "0    11\n",
      "Name: count, dtype: int64\n"
     ]
    }
   ],
   "source": [
    "# Codificación\n",
    "df = df[df['sexo'] != \"Sin Informacion\"]\n",
    "df.loc[df['sexo'] == \"Mujer\", 'sexo'] = 1\n",
    "df.loc[df['sexo'] == \"Hombre\", 'sexo'] = 0\n",
    "df['sexo'] = pd.to_numeric(df['sexo'])\n",
    "\n",
    "# Sexo año 2016\n",
    "y = df[df['agno'] == 2016]['sexo']\n",
    "\n",
    "# Frecuencias sexo año 2016\n",
    "print(y.value_counts())"
   ]
  },
  {
   "cell_type": "code",
   "execution_count": 29,
   "id": "5df4c96c-e017-40e9-9de3-9d3c1660ea09",
   "metadata": {},
   "outputs": [
    {
     "name": "stdout",
     "output_type": "stream",
     "text": [
      "80\n"
     ]
    }
   ],
   "source": [
    "# Tamaño de muestra\n",
    "n = len(y)\n",
    "print(n)"
   ]
  },
  {
   "cell_type": "code",
   "execution_count": 31,
   "id": "3a2200be-3b1c-492a-a798-d541674b07f8",
   "metadata": {},
   "outputs": [
    {
     "name": "stdout",
     "output_type": "stream",
     "text": [
      "69\n"
     ]
    }
   ],
   "source": [
    "# Estadístico suficiente\n",
    "s = y.sum()\n",
    "print(s)"
   ]
  },
  {
   "cell_type": "markdown",
   "id": "3f7b5c4d-9dea-40d7-b779-88baf5ed03a7",
   "metadata": {},
   "source": [
    "## Distribución posterior"
   ]
  },
  {
   "cell_type": "code",
   "execution_count": 38,
   "id": "a8e82682-b837-4065-a597-bdbfeaa2a12f",
   "metadata": {},
   "outputs": [
    {
     "name": "stdout",
     "output_type": "stream",
     "text": [
      "70\n"
     ]
    }
   ],
   "source": [
    "# Hiperparámetros\n",
    "a = 1\n",
    "b = 1\n",
    "\n",
    "# Parámetros de la posterior\n",
    "ap = a + s\n",
    "print(ap)"
   ]
  },
  {
   "cell_type": "code",
   "execution_count": 42,
   "id": "2bfda947-4178-4214-9ad5-2610b355a011",
   "metadata": {},
   "outputs": [
    {
     "name": "stdout",
     "output_type": "stream",
     "text": [
      "12\n"
     ]
    }
   ],
   "source": [
    "bp = b + n - s\n",
    "print(bp)"
   ]
  },
  {
   "cell_type": "code",
   "execution_count": 44,
   "id": "2d886aab-bfe1-4f0e-87d5-d8e62f975c66",
   "metadata": {},
   "outputs": [
    {
     "data": {
      "image/png": "[encoded data removed]",
      "text/plain": [
       "<Figure size 600x400 with 1 Axes>"
      ]
     },
     "metadata": {},
     "output_type": "display_data"
    }
   ],
   "source": [
    "# Dominio para theta\n",
    "x = np.linspace(0, 1, 1000)\n",
    "\n",
    "# Densidad posterior\n",
    "posterior = beta.pdf(x, ap, bp)\n",
    "\n",
    "# Densidad previa (opcional, uniforme si Beta(1,1))\n",
    "prior = beta.pdf(x, a, b)\n",
    "\n",
    "# Gráfico\n",
    "plt.figure(figsize=(6, 4))\n",
    "plt.plot(x, prior, label='Previa', color='black', linewidth=2)\n",
    "plt.plot(x, posterior, label='Posterior', color='blue', linewidth=2)\n",
    "\n",
    "# Línea horizontal de referencia\n",
    "plt.axhline(y=1, color='black', linestyle='--', linewidth=1.5)\n",
    "\n",
    "# Etiquetas y título\n",
    "plt.xlabel(r'$\\theta$')\n",
    "plt.ylabel(r'$p(\\theta \\mid y)$')\n",
    "plt.title('Distribución Posterior Beta')\n",
    "plt.legend(loc='upper left', frameon=False)\n",
    "plt.tight_layout()\n",
    "plt.show()"
   ]
  },
  {
   "cell_type": "markdown",
   "id": "22f1f6ff-b10e-4103-93c6-e6120839f0cd",
   "metadata": {},
   "source": [
    "## Inferencia 2016"
   ]
  },
  {
   "cell_type": "code",
   "execution_count": 47,
   "id": "5347db68-779b-4890-b1d2-15980a6902d7",
   "metadata": {},
   "outputs": [
    {
     "name": "stdout",
     "output_type": "stream",
     "text": [
      "0.854\n"
     ]
    }
   ],
   "source": [
    "# Media posterior\n",
    "media = round(ap / (ap + bp), 3)\n",
    "print(media)"
   ]
  },
  {
   "cell_type": "code",
   "execution_count": 49,
   "id": "f5d7b9fc-4344-42b5-a0e1-1196154ca8ba",
   "metadata": {},
   "outputs": [
    {
     "name": "stdout",
     "output_type": "stream",
     "text": [
      "0.857\n"
     ]
    }
   ],
   "source": [
    "# Mediana posterior (aproximación de la mediana de la Beta)\n",
    "mediana = round((ap - 1/3) / (ap + bp - 2/3), 3)\n",
    "print(mediana)"
   ]
  },
  {
   "cell_type": "code",
   "execution_count": 51,
   "id": "2970602a-c5af-4827-88ed-da1070436e2d",
   "metadata": {},
   "outputs": [
    {
     "name": "stdout",
     "output_type": "stream",
     "text": [
      "0.862\n"
     ]
    }
   ],
   "source": [
    "# Moda posterior (si ap > 1 y bp > 1)\n",
    "moda = round((ap - 1) / (ap + bp - 2), 3)\n",
    "print(moda)"
   ]
  },
  {
   "cell_type": "code",
   "execution_count": 53,
   "id": "335428d8-9a40-4d96-9b48-f066fcbbc36c",
   "metadata": {},
   "outputs": [
    {
     "name": "stdout",
     "output_type": "stream",
     "text": [
      "0.045\n"
     ]
    }
   ],
   "source": [
    "# Coeficiente de variación (CV)\n",
    "cv = round(np.sqrt((ap * bp) / ((ap + bp) ** 2 * (ap + bp + 1))) / (ap / (ap + bp)), 3)\n",
    "print(cv)"
   ]
  },
  {
   "cell_type": "code",
   "execution_count": 57,
   "id": "75267a8f-a58a-49dc-9f3d-b107677ffadb",
   "metadata": {},
   "outputs": [
    {
     "name": "stdout",
     "output_type": "stream",
     "text": [
      "[0.77  0.921]\n"
     ]
    }
   ],
   "source": [
    "# Intervalo de credibilidad al 95%\n",
    "intervalo = np.round(beta.ppf([0.025, 0.975], ap, bp), 3)\n",
    "print(intervalo)"
   ]
  },
  {
   "cell_type": "code",
   "execution_count": 63,
   "id": "b20eb61f-9fba-47d9-9cf1-702ea9f655cb",
   "metadata": {},
   "outputs": [
    {
     "name": "stdout",
     "output_type": "stream",
     "text": [
      "0.908\n"
     ]
    }
   ],
   "source": [
    "# Probabilidad posterior de que theta > 0.8\n",
    "prob_mayor_08 = round(beta.sf(0.8, ap, bp), 3)  # sf = 1 - cdf\n",
    "print(prob_mayor_08)"
   ]
  },
  {
   "cell_type": "code",
   "execution_count": 67,
   "id": "a73fd824-f5ac-4f0c-8e7b-beda64bc7176",
   "metadata": {},
   "outputs": [
    {
     "name": "stdout",
     "output_type": "stream",
     "text": [
      "|  Media  |  Mediana  |  Moda  |  CV   |  Q2.5%  |  Q97.5%  |\n",
      "|---------|-----------|--------|-------|---------|----------|\n",
      "|  0.854  |   0.857   | 0.862  | 0.045 |  0.77   |  0.921   |\n"
     ]
    }
   ],
   "source": [
    "# Crear tabla de resultados\n",
    "out = pd.DataFrame({\n",
    "    'Media': [media],\n",
    "    'Mediana': [mediana],\n",
    "    'Moda': [moda],\n",
    "    'CV': [cv],\n",
    "    'Q2.5%': [intervalo[0]],\n",
    "    'Q97.5%': [intervalo[1]]\n",
    "})\n",
    "\n",
    "# Mostrar tabla con formato\n",
    "print(tabulate(out.round(3), headers='keys', tablefmt='github',\n",
    "               showindex=False, stralign='center',\n",
    "               numalign='center'))"
   ]
  },
  {
   "cell_type": "markdown",
   "id": "433f4c71-76cb-403a-9191-d301011b8eea",
   "metadata": {},
   "source": [
    "## Inferencia 2000-2021"
   ]
  },
  {
   "cell_type": "code",
   "execution_count": 72,
   "id": "c21ab650-1c3d-49b8-b437-4fa71ab5553f",
   "metadata": {},
   "outputs": [],
   "source": [
    "# Hiperparámetros: previa Beta(1,1)\n",
    "a = 1\n",
    "b = 1\n",
    "\n",
    "# Inicializar lista para almacenar resultados\n",
    "out_list = []\n",
    "\n",
    "# Ajuste del modelo por año\n",
    "for i, agno in enumerate(range(2000, 2022), start=1):\n",
    "    # Filtrar datos por año\n",
    "    y = df[df['agno'] == agno]['sexo']\n",
    "    n = len(y)\n",
    "    s = y.sum()\n",
    "\n",
    "    # Parámetros de la posterior\n",
    "    ap = a + s\n",
    "    bp = b + n - s\n",
    "\n",
    "    # Estadísticas de interés\n",
    "    me = ap / (ap + bp)  # Media\n",
    "    de = np.sqrt((ap * bp) / ((ap + bp)**2 * (ap + bp + 1)))  # Desviación estándar\n",
    "    ic95 = beta.ppf([0.025, 0.975], ap, bp)  # IC 95%\n",
    "    ic99 = beta.ppf([0.005, 0.995], ap, bp)  # IC 99%\n",
    "\n",
    "    # Almacenar en la lista\n",
    "    out_list.append([agno, n, me, de / me, ic95[0], ic95[1], ic99[0], ic99[1]])\n",
    "\n",
    "# Convertir la lista en DataFrame\n",
    "out = pd.DataFrame(out_list, columns=[\n",
    "    \"Año\", \"n\", \"Media\", \"CV\", \"IC95_Lower\", \"IC95_Upper\", \"IC99_Lower\", \"IC99_Upper\"\n",
    "])"
   ]
  },
  {
   "cell_type": "code",
   "execution_count": 76,
   "id": "1fb79815-07c9-4222-b0e7-4aa6c9a8e6c2",
   "metadata": {},
   "outputs": [
    {
     "name": "stdout",
     "output_type": "stream",
     "text": [
      "|  Año  |  n   |  Media  |  CV   |  Q2.5%  |  Q97.5%  |\n",
      "|-------|------|---------|-------|---------|----------|\n",
      "| 2000  | 1181 |  0.932  | 0.008 |  0.916  |  0.945   |\n",
      "| 2001  | 1125 |  0.913  | 0.009 |  0.896  |  0.929   |\n",
      "| 2002  | 1486 |  0.894  | 0.009 |  0.878  |  0.909   |\n",
      "| 2003  | 1325 |  0.909  | 0.009 |  0.893  |  0.924   |\n",
      "| 2004  | 1145 |  0.935  | 0.008 |  0.92   |  0.948   |\n",
      "| 2005  | 925  |  0.915  | 0.01  |  0.896  |  0.932   |\n",
      "| 2006  | 565  |  0.919  | 0.012 |  0.895  |   0.94   |\n",
      "| 2007  | 439  |  0.93   | 0.013 |  0.904  |  0.952   |\n",
      "| 2008  | 402  |  0.913  | 0.015 |  0.884  |  0.939   |\n",
      "| 2009  | 325  |  0.93   | 0.015 |   0.9   |  0.955   |\n",
      "| 2010  | 316  |  0.906  | 0.018 |  0.871  |  0.935   |\n",
      "| 2011  | 314  |  0.921  | 0.016 |  0.889  |  0.948   |\n",
      "| 2012  | 398  |  0.95   | 0.011 |  0.927  |  0.969   |\n",
      "| 2013  | 414  |  0.921  | 0.014 |  0.893  |  0.945   |\n",
      "| 2014  | 668  |  0.943  | 0.009 |  0.925  |  0.959   |\n",
      "| 2015  | 331  |  0.937  | 0.014 |  0.908  |   0.96   |\n",
      "| 2016  |  80  |  0.854  | 0.045 |  0.77   |  0.921   |\n",
      "| 2017  |  30  |  0.875  | 0.066 |  0.742  |  0.964   |\n",
      "| 2018  |  22  |  0.917  | 0.06  |  0.781  |  0.989   |\n",
      "| 2019  |  35  |  0.838  | 0.071 |  0.705  |  0.936   |\n",
      "| 2020  |  14  |  0.688  | 0.164 |  0.449  |  0.882   |\n",
      "| 2021  |  9   |  0.909  | 0.091 |  0.692  |  0.997   |\n",
      "\n",
      "Inferencia sobre la proporción poblacional de mujeres víctimas de violencia sexual en 2020-2021.\n"
     ]
    }
   ],
   "source": [
    "# Renombrar columnas de la tabla\n",
    "out.columns = [\"Año\", \"n\", \"Media\", \"CV\", \"Q2.5%\", \"Q97.5%\", \"Q0.5%\", \"Q99.5%\"]\n",
    "\n",
    "# Crear tabla con las columnas necesarias\n",
    "tabla = out[[\"Año\", \"n\", \"Media\", \"CV\", \"Q2.5%\", \"Q97.5%\"]].round(3)\n",
    "\n",
    "# Mostrar con formato tipo kable\n",
    "print(tabulate(tabla, headers=\"keys\", tablefmt=\"github\", showindex=False, stralign=\"center\", numalign=\"center\"))\n",
    "\n",
    "# Título manual (ya que tabulate no lo incluye)\n",
    "print(\"\\nInferencia sobre la proporción poblacional de mujeres víctimas de violencia sexual en 2020-2021.\")\n"
   ]
  },
  {
   "cell_type": "code",
   "execution_count": 80,
   "id": "e1d34bee-5d8f-4604-94fe-7b5c8a257f16",
   "metadata": {},
   "outputs": [
    {
     "data": {
      "image/png": "[encoded data removed]",
      "text/plain": [
       "<Figure size 1000x500 with 1 Axes>"
      ]
     },
     "metadata": {},
     "output_type": "display_data"
    }
   ],
   "source": [
    "# Datos para graficar\n",
    "x = range(1, len(out) + 1)\n",
    "y = out[\"n\"]\n",
    "\n",
    "# Crear gráfico\n",
    "plt.figure(figsize=(10, 5))\n",
    "plt.plot(x, y, marker='o', linestyle='-', color='blue', linewidth=2)\n",
    "plt.ylim(0, 1550)\n",
    "plt.xlabel(\"Año\")\n",
    "plt.ylabel(\"Tamaño de muestra\")\n",
    "\n",
    "# Agregar líneas de referencia verticales\n",
    "for i in x:\n",
    "    plt.axvline(x=i, color=\"lightgray\", linewidth=0.5)\n",
    "\n",
    "# Etiquetas del eje X con los años\n",
    "plt.xticks(ticks=x, labels=list(range(2000, 2022)), rotation=45)\n",
    "\n",
    "# Agregar etiquetas con los valores del tamaño de muestra\n",
    "for i, val in zip(x, y):\n",
    "    plt.text(i, val + 20, str(int(val)), ha='center', va='bottom', fontsize=8)\n",
    "\n",
    "plt.tight_layout()\n",
    "plt.show()"
   ]
  },
  {
   "cell_type": "code",
   "execution_count": 82,
   "id": "0ab2d8cb-637b-4f0a-a5e0-592aec6133f5",
   "metadata": {},
   "outputs": [
    {
     "data": {
      "image/png": "[encoded data removed]",
      "text/plain": [
       "<Figure size 1000x500 with 1 Axes>"
      ]
     },
     "metadata": {},
     "output_type": "display_data"
    }
   ],
   "source": [
    "# Definir colores para los puntos según los intervalos\n",
    "col = np.array(['black'] * len(out))  # 1 = negro\n",
    "col[out[\"Q0.5%\"] > 0.918] = 'red'     # 2 = rojo\n",
    "col[out[\"Q99.5%\"] < 0.918] = 'blue'   # 3 = azul\n",
    "\n",
    "# Eje x: años como índices\n",
    "x = np.arange(1, len(out) + 1)\n",
    "media = out[\"Media\"]\n",
    "ic95_lower = out[\"Q2.5%\"]\n",
    "ic95_upper = out[\"Q97.5%\"]\n",
    "ic99_lower = out[\"Q0.5%\"]\n",
    "ic99_upper = out[\"Q99.5%\"]\n",
    "\n",
    "# Crear gráfico\n",
    "plt.figure(figsize=(10, 5))\n",
    "plt.ylim(0.25, 1)\n",
    "plt.xlabel(\"Año\")\n",
    "plt.ylabel(r\"$\\theta$\")\n",
    "\n",
    "# Línea horizontal de referencia\n",
    "plt.axhline(y=0.918, color=\"lightgray\", linewidth=2)\n",
    "\n",
    "# Línea de conexión entre estimaciones\n",
    "plt.plot(x, media, color='blue', linewidth=2)\n",
    "\n",
    "# Puntos coloreados según los intervalos\n",
    "for i in range(len(out)):\n",
    "    plt.plot(x[i], media[i], marker='o', color=col[i])\n",
    "\n",
    "# Líneas verticales de referencia\n",
    "for i in x:\n",
    "    plt.axvline(x=i, color='lightgray', linewidth=0.5)\n",
    "\n",
    "# Intervalos de credibilidad 95%\n",
    "for i in range(len(out)):\n",
    "    plt.plot([x[i], x[i]], [ic95_lower[i], ic95_upper[i]], color=col[i], linewidth=2)\n",
    "\n",
    "# Intervalos de credibilidad 99%\n",
    "for i in range(len(out)):\n",
    "    plt.plot([x[i], x[i]], [ic99_lower[i], ic99_upper[i]], color=col[i], linewidth=1)\n",
    "\n",
    "# Etiquetas del eje x\n",
    "plt.xticks(ticks=x, labels=list(range(2000, 2022)), rotation=45)\n",
    "\n",
    "plt.tight_layout()\n",
    "plt.show()"
   ]
  },
  {
   "cell_type": "code",
   "execution_count": 86,
   "id": "b25637fa-9b24-444d-a69c-bf2013ef1543",
   "metadata": {},
   "outputs": [
    {
     "data": {
      "image/png": "[encoded data removed]",
      "text/plain": [
       "<Figure size 1000x500 with 1 Axes>"
      ]
     },
     "metadata": {},
     "output_type": "display_data"
    }
   ],
   "source": [
    "# Datos\n",
    "x = range(1, len(out) + 1)\n",
    "cv = out[\"CV\"]\n",
    "\n",
    "# Crear gráfico\n",
    "plt.figure(figsize=(10, 5))\n",
    "plt.ylim(0, 0.2)\n",
    "plt.xlabel(\"Año\")\n",
    "plt.ylabel(\"Coef. Variación\")\n",
    "\n",
    "# Líneas verticales de referencia\n",
    "for i in x:\n",
    "    plt.axvline(x=i, color=\"lightgray\", linewidth=0.5)\n",
    "\n",
    "# Puntos\n",
    "plt.scatter(x, cv, color='black', s=30)\n",
    "\n",
    "# Línea de conexión\n",
    "plt.plot(x, cv, color='blue', linewidth=2)\n",
    "\n",
    "# Eje X con etiquetas de años\n",
    "plt.xticks(ticks=x, labels=list(range(2000, 2022)), rotation=45)\n",
    "\n",
    "# Líneas horizontales de referencia (niveles de CV)\n",
    "plt.axhline(y=0.05, color='green', linestyle='--')         # Verde\n",
    "plt.axhline(y=0.10, color='#FFA500', linestyle='--')       # Naranja\n",
    "plt.axhline(y=0.15, color='red', linestyle='--')           # Rojo\n",
    "\n",
    "plt.tight_layout()\n",
    "plt.show()"
   ]
  },
  {
   "cell_type": "markdown",
   "id": "b30931dc-d3eb-4072-9db2-14016ed03fe1",
   "metadata": {},
   "source": [
    "# Ejercicios conceptuales\n",
    "\n",
    "- Considere el modelo Beta-Binomial:  \n",
    "$$\n",
    "y \\mid \\theta \\sim \\textsf{Bin}(n, \\theta), \\quad \\theta \\sim \\textsf{Beta}(a, b)\n",
    "$$\n",
    "donde $y \\in \\mathcal{Y} = \\{0, \\dots, n\\}$ y $\\theta \\in \\Theta = (0,1)$.\n",
    "\n",
    "  a. Demuestre que la distribución marginal de $y$ es  \n",
    "  $$\n",
    "  p(y) = \\frac{\\Gamma(n+1)}{\\Gamma(y+1)\\,\\Gamma(n-y+1)}\\,\\frac{\\Gamma(a+b)}{\\Gamma(a+b+n)}\\,\\frac{\\Gamma(a+y)\\,\\Gamma(b+n-y)}{\\Gamma(a)\\,\\Gamma(b)}.\n",
    "  $$\n",
    "\n",
    "  b. Demuestre que la media y la varianza marginal de $y$ son  \n",
    "  $$\n",
    "  \\textsf{E}(y) = \\frac{n a}{a+b}, \\quad \\textsf{Var}(y) = \\frac{n a b (a+b+n)}{(a+b)^2 (a+b+1)}.\n",
    "  $$\n",
    "\n",
    "  Sugerencia:  \n",
    "  $$\n",
    "  \\textsf{E}(X) = \\textsf{E}(\\textsf{E}(X \\mid Y)), \\quad \\textsf{Var}(X) = \\textsf{E}(\\textsf{Var}(X \\mid Y)) + \\textsf{Var}(\\textsf{E}(X \\mid Y)).\n",
    "  $$\n",
    "\n",
    "  c. Demuestre que:\n",
    "  $$\n",
    "  \\textsf{E}(\\theta \\mid y) = \\omega \\, \\textsf{E}(\\theta) + (1-\\omega)\\, \\bar{y},\n",
    "  $$\n",
    "  donde:\n",
    "  $$\n",
    "  \\omega = \\frac{b}{b+n}, \\quad 1 - \\omega = \\frac{n}{b+n}, \\quad \\bar{y} = \\frac{y}{n}.\n",
    "  $$\n",
    "\n",
    "- Suponga una población con artículos de $k \\geq 2$ tipos y proporciones $\\theta_j$ tales que $0 < \\theta_j < 1$ para $j = 1, \\dots, k$ y $\\sum_{j=1}^{k} \\theta_j = 1$. Sea $\\boldsymbol{\\theta} = (\\theta_1, \\dots, \\theta_k)$. Si $\\boldsymbol{n} = (n_1, \\dots, n_k)$ es el número de artículos por tipo en una muestra aleatoria de tamaño $n$, entonces:\n",
    "$$\n",
    "\\boldsymbol{n} \\mid n, \\boldsymbol{\\theta} \\sim \\textsf{Multinomial}(n, \\boldsymbol{\\theta})\n",
    "$$\n",
    "si y solo si:\n",
    "$$\n",
    "p(\\boldsymbol{n} \\mid n, \\boldsymbol{\\theta}) = \\frac{n!}{\\prod_{j=1}^{k} n_j!} \\prod_{j=1}^{k} \\theta_j^{n_j},\n",
    "$$\n",
    "bajo las condiciones:\n",
    "$$\n",
    "\\sum_{j=1}^{k} n_j = n, \\quad 0 \\leq n_j \\leq n.\n",
    "$$\n",
    "\n",
    "Si además $\\boldsymbol{\\theta} \\sim \\textsf{Dirichlet}(a_1, \\dots, a_k)$, entonces:\n",
    "$$\n",
    "\\boldsymbol{\\theta} \\mid \\boldsymbol{n} \\sim \\textsf{Dirichlet}(a_1 + n_1, \\dots, a_k + n_k).\n",
    "$$\n",
    "\n",
    "- Sea $y \\sim \\textsf{Galenshore}(\\alpha, \\beta)$ con densidad:\n",
    "$$\n",
    "p(y\\mid \\alpha, \\beta) = \\frac{2}{\\Gamma(\\alpha)} \\beta^{2\\alpha} y^{2\\alpha-1} e^{-\\beta^2 y^2}, \\quad y > 0\n",
    "$$\n",
    "entonces:\n",
    "$$\n",
    "\\textsf{E}(y\\mid \\alpha, \\beta) = \\frac{\\Gamma(\\alpha + 1/2)}{\\beta \\Gamma(\\alpha)}, \\quad \\textsf{E}(y^2\\mid \\alpha, \\beta) = \\frac{\\alpha}{\\beta^2}.\n",
    "$$\n",
    "\n",
    "  a. Identifique una clase de distribuciones previas conjugadas para $\\beta$  \n",
    "  b. Determine la distribución posterior de $\\beta$ dada una muestra $y_1, \\dots, y_n$  \n",
    "  c. Exprese:\n",
    "  $$\n",
    "  \\frac{p(\\beta_a \\mid y_1, \\dots, y_n)}{p(\\beta_b \\mid y_1, \\dots, y_n)}\n",
    "  $$\n",
    "  y simplifique  \n",
    "  d. Calcule $\\textsf{E}(\\beta \\mid y_1, \\dots, y_n)$\n",
    "\n",
    "- Demuestre que las siguientes distribuciones pertenecen a la familia exponencial: Bernoulli, Binomial, Multinomial, Poisson, Exponencial, Beta, Gamma, Normal\n",
    "\n",
    "- Sea:\n",
    "$$\n",
    "p(y \\mid \\phi) = c(\\phi)\\,h(y)\\,\\exp(\\phi\\,t(y))\n",
    "$$\n",
    "\n",
    "  a. Derive:\n",
    "  $$\n",
    "  \\int_{\\mathcal{Y}} p(y \\mid \\phi) \\, dy = 1\n",
    "  $$\n",
    "  con respecto a $\\phi$ para demostrar que:\n",
    "  $$\n",
    "  \\textsf{E}(t(y) \\mid \\phi) = -\\frac{c'(\\phi)}{c(\\phi)}\n",
    "  $$\n",
    "\n",
    "  b. Si $p(\\phi) \\propto c(\\phi)^{n_0} \\exp(n_0 t_0 \\phi)$, muestre que:\n",
    "  $$\n",
    "  \\textsf{E} \\left( -\\frac{c'(\\phi)}{c(\\phi)} \\right) = t_0\n",
    "  $$\n",
    "\n",
    "- Sea $\\phi = g(\\theta)$ con inversa $h$, entonces:\n",
    "$$\n",
    "p_{\\phi}(\\phi) = p_{\\theta}(h(\\phi)) \\left| \\frac{d h}{d\\phi} \\right|\n",
    "$$\n",
    "\n",
    "  a. Si $\\theta \\sim \\textsf{Beta}(a, b)$ y $\\phi = \\log(\\theta / (1-\\theta))$, obtenga $p_{\\phi}(\\phi)$ para $a = b = 1$  \n",
    "  b. Si $\\theta \\sim \\textsf{Gamma}(a, b)$ y $\\phi = \\log(\\theta)$, obtenga $p_{\\phi}(\\phi)$ para $a = b = 1$\n",
    "\n",
    "- La distribución de Jeffreys es:\n",
    "$$\n",
    "p_J(\\theta) \\propto \\sqrt{I(\\theta)}, \\quad I(\\theta) = -\\textsf{E} \\left( \\frac{d^2}{d\\theta^2} \\log p(y \\mid \\theta) \\right)\n",
    "$$\n",
    "\n",
    "  a. Si $y \\sim \\textsf{Bin}(n, \\theta)$, entonces:\n",
    "  $$\n",
    "  p_J(\\theta) \\propto \\theta^{-1/2}(1-\\theta)^{-1/2}\n",
    "  $$\n",
    "\n",
    "  b. Si $\\psi = \\textsf{logit}(\\theta)$, entonces:\n",
    "  $$\n",
    "  p(y \\mid \\psi) \\propto e^{\\psi y}(1 + e^{\\psi})^{-n}\n",
    "  $$\n",
    "\n",
    "  c. Verifique que la transformación de la previa de Jeffreys coincide en ambas parametrizaciones.\n",
    "\n",
    "- Sea $x \\mid \\theta \\sim \\textsf{N}(\\theta, \\theta)$ con $\\theta > 0$, entonces:\n",
    "$$\n",
    "p_J(\\theta) \\propto \\frac{(2\\theta + 1)^{1/2}}{\\theta}\n",
    "$$\n",
    "\n",
    "- Sea $y_1, \\dots, y_n$ i.i.d. con:\n",
    "$$\n",
    "\\ell(\\theta \\mid y) = \\sum_{i=1}^n \\log p(y_i \\mid \\theta), \\quad J(\\theta) = -\\frac{\\partial^2 \\ell(\\theta \\mid y)}{\\partial \\theta^2}\n",
    "$$\n",
    "\n",
    "La previa de información unitaria satisface:\n",
    "$$\n",
    "- \\frac{\\partial^2 \\log p(\\theta)}{\\partial \\theta^2} = \\frac{J(\\theta)}{n}\n",
    "$$\n",
    "\n",
    "  a. Si $y_i \\sim \\textsf{Ber}(\\theta)$, calcule $J(\\hat{\\theta})/n$  \n",
    "  b. Encuentre $p_U(\\theta)$ tal que:\n",
    "  $$\n",
    "  \\log p_U(\\theta) = \\frac{\\ell(\\theta \\mid y)}{n} + c\n",
    "  $$\n",
    "\n",
    "  c. Analice $p(\\theta \\mid y) \\propto p(y \\mid \\theta) p_U(\\theta)$ como distribución posterior\n",
    "\n"
   ]
  },
  {
   "cell_type": "markdown",
   "id": "c230e695-bfb8-492e-b2e3-5f0a31a01a8a",
   "metadata": {},
   "source": [
    "# Ejercicios prácticos\n",
    "\n",
    "- Se encuesta a $n = 100$ personas seleccionadas al azar en una ciudad con una población significativamente mayor. Se registra $y_i = 1$ si la persona $i$ apoya la política y $y_i = 0$ en caso contrario.\n",
    "\n",
    "  a. Suponga que $y_i \\mid \\theta \\overset{\\text{iid}}{\\sim} \\textsf{Ber}(\\theta)$. Escriba $p(\\boldsymbol{y} \\mid \\theta)$ y $p(s \\mid \\theta)$, donde $\\boldsymbol{y} = (y_1, \\dots, y_n)$ y $s = \\sum_{i=1}^n y_i$.  \n",
    "  b. Si $\\theta$ solo toma valores en $\\{0.0, 0.1, \\dots, 1.0\\}$, calcule $p(s = 57 \\mid \\theta)$ para cada $\\theta$ y grafique los resultados obtenidos.  \n",
    "  c. Si $\\theta$ sigue una distribución uniforme discreta, use el teorema de Bayes para calcular $p(\\theta \\mid s = 57)$ y grafique los resultados obtenidos.  \n",
    "  d. Permita que $\\theta \\in (0,1)$ con distribución previa uniforme. Grafique $p(s = 57 \\mid \\theta)\\,p(\\theta)$.  \n",
    "  e. Determine la distribución posterior de $\\theta$. Grafique la distribución posterior y compárela con los resultados anteriores.  \n",
    "  f. Exprese $\\textsf{Beta}(a,b)$ en términos de $\\theta_0 = \\frac{a}{a + b}$ y $n_0 = a + b$, donde $a = \\theta_0 n_0$ y $b = (1 - \\theta_0) n_0$. Para $\\theta_0 \\in \\{0.1, \\dots, 0.9\\}$ y $n_0 \\in \\{1, 2, 8, 16, 32\\}$, calcule $a$, $b$ y $\\textsf{Pr}(\\theta > 0.5 \\mid s = 57)$. Grafique los resultados obtenidos.\n",
    "\n",
    "- Suponga que su conocimiento previo sobre $\\theta$, la proporción de individuos que apoyan la pena de muerte en un país, se modela con una distribución $\\textsf{Beta}$ con media $\\textsf{E}(\\theta) = 0.6$ y desviación estándar $\\textsf{DE}(\\theta) = 0.3$.\n",
    "\n",
    "  a. Determine los hiperparámetros de la distribución previa y represente gráficamente su función de densidad.  \n",
    "  b. Se toma una muestra aleatoria de 1,000 individuos, de los cuales el 65% apoya la pena de muerte. Calcule la media y la desviación estándar de la distribución posterior de $\\theta$. Represente gráficamente la función de densidad posterior.  \n",
    "  c. Analice la sensibilidad de la distribución posterior ante distintos valores de la media y la desviación estándar de la distribución previa, incluyendo el caso de una distribución previa no informativa.\n",
    "\n",
    "- Un ingeniero inspecciona un lote de piezas para control de calidad y analiza diez elementos seleccionados al azar. Históricamente, la proporción de artículos defectuosos $\\theta$ ha sido aproximadamente del 1% y rara vez ha superado el 2%.\n",
    "\n",
    "  a. Determine una distribución previa conjugada para $\\theta$ basada en la información histórica. Usando esta distribución, derive la distribución posterior de $\\theta$ dada una muestra aleatoria de tamaño 10.  \n",
    "  b. Suponga que el ingeniero no encuentra componentes defectuosos en su inspección. ¿Cuál es la distribución posterior de $\\theta$? ¿Cuál es su media posterior?  \n",
    "  c. Calcule el estimador de máxima verosimilitud para $\\theta$. Como estimador puntual, ¿es preferible el estimador de máxima verosimilitud o la media posterior? Justifique su respuesta.\n",
    "\n",
    "- Se desea estimar la probabilidad $\\theta$ de reincidencia en adolescentes con base en un estudio en el que se observaron $n = 43$ individuos liberados de reclusión, de los cuales $y = 15$ reincidieron en un período de 36 meses.\n",
    "\n",
    "  a. Usando una distribución previa $\\textsf{Beta}(2,8)$ para $\\theta$, grafique $p(\\theta)$ y $p(\\theta \\mid y)$ como funciones de $\\theta$. Calcule la media, la moda y la desviación estándar de la distribución posterior de $\\theta$. Determine un intervalo de credibilidad al 95% basado en cuantiles.  \n",
    "  b. Repita el inciso anterior, pero utilizando una distribución previa $\\textsf{Beta}(8,2)$ para $\\theta$.  \n",
    "  c. Considere la siguiente distribución previa para $\\theta$:\n",
    "  \n",
    "  $$\n",
    "  p(\\theta) = \\frac{1}{4} \\frac{\\Gamma(10)}{\\Gamma(2)\\Gamma(8)} \\left( 3\\theta(1 - \\theta)^7 + \\theta^7(1 - \\theta) \\right),\n",
    "  $$\n",
    "\n",
    "  la cual representa una mezcla 75%-25% de las distribuciones previas $\\textsf{Beta}(2,8)$ y $\\textsf{Beta}(8,2)$. Grafique esta distribución previa y compárela con las previas de los incisos anteriores. Describa qué tipo de opinión previa representa esta distribución.  \n",
    "  d. Para la distribución previa del inciso c.:  \n",
    "     - Escriba explícitamente la expresión $p(y \\mid \\theta)\\,p(\\theta)$ y simplifíquela tanto como sea posible.  \n",
    "     - La distribución posterior es una mezcla de dos distribuciones conocidas. Identifique estas distribuciones.  \n",
    "     - Calcule y grafique $p(y \\mid \\theta)\\,p(\\theta)$ para varios valores de $\\theta$. Aproximadamente, encuentre la moda de la distribución posterior y compare su relación con las modas obtenidas en los incisos anteriores.  \n",
    "  e. Encuentre una fórmula general para los pesos de la mezcla dada en la segunda parte del inciso d. e interprete sus valores en términos del efecto de la evidencia observada sobre la información previa."
   ]
  },
  {
   "cell_type": "markdown",
   "id": "c90ff389-cbc1-4d8e-8f39-bbfb552f210b",
   "metadata": {},
   "source": [
    "# Referencias\n",
    "\n",
    "Hoff, P. D. (2009). *A First Course in Bayesian Statistical Methods*. Springer New York.\n",
    "\n",
    "Gelman, A., Carlin, J. B., Stern, H. S., Dunson, D. B., Vehtari, A., & Rubin, D. B. (2013). *Bayesian Data Analysis* (3rd ed.). Chapman & Hall/CRC."
   ]
  }
 ],
 "metadata": {
  "kernelspec": {
   "display_name": "Python [conda env:base] *",
   "language": "python",
   "name": "conda-base-py"
  },
  "language_info": {
   "codemirror_mode": {
    "name": "ipython",
    "version": 3
   },
   "file_extension": ".py",
   "mimetype": "text/x-python",
   "name": "python",
   "nbconvert_exporter": "python",
   "pygments_lexer": "ipython3",
   "version": "3.12.7"
  }
 },
 "nbformat": 4,
 "nbformat_minor": 5
}
