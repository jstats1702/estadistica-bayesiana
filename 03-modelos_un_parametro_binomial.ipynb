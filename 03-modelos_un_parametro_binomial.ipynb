{
 "cells": [
  {
   "cell_type": "markdown",
   "id": "constitutional-romania",
   "metadata": {},
   "source": [
    "# Modelo Binomial\n",
    "\n",
    "Juan Sosa PhD\n",
    "\n",
    "Email jcsosam@unal.edu.co\n",
    "\n",
    "GitHub https://github.com/jstats1702"
   ]
  },
  {
   "cell_type": "code",
   "execution_count": 1,
   "id": "manual-discovery",
   "metadata": {},
   "outputs": [],
   "source": [
    "import numpy as np\n",
    "import pandas as pd\n",
    "import seaborn as sns\n",
    "from scipy import stats as st\n",
    "from matplotlib import pyplot as plt\n",
    "%matplotlib inline"
   ]
  },
  {
   "cell_type": "markdown",
   "id": "little-passport",
   "metadata": {},
   "source": [
    "## 1 Modelo general\n",
    "\n",
    "Si Su estado de información acerca de las secuencia de **variables binarias** $y_1,\\ldots,y_n$ es intercambiable, entonces el modelamiento $y_1,\\ldots,y_n$ admite representación jerárquica de la forma:\n",
    "$$\n",
    "\\begin{align*}\n",
    "y_i\\mid\\theta &\\stackrel{\\text{iid}}{\\sim}\\textsf{Ber}(\\theta)\\,,\\quad i = 1,\\ldots,n \\\\\n",
    "\\theta &\\sim p(\\theta)\n",
    "\\end{align*}\n",
    "$$\n",
    "La **distribución muestral (distribución condicional conjunta)** de $\\boldsymbol{y} = (y_1,\\ldots,y_n)$ dado $\\theta$ es\n",
    "$$\n",
    "p(\\boldsymbol{y}\\mid\\theta) = \\theta^{s}(1-\\theta)^{n - s}\\,,\n",
    "$$\n",
    "donde $s = \\sum_{i=1}^n y_i$, lo cual sugiere que $s$ es un **estadístico suficiente** para $\\theta$ (i.e., $s$ contiene toda la información que proviene de los datos acerca de $\\theta$; saber $s$ es suficiente para hacer inferencia sobre $\\theta$). La demostración formal se puede hacer por medio del **Teorema de Factorización de Fisher-Neyman**.\n",
    "\n",
    "**(Definición.)** Sea $y_1,\\ldots,y_n$ una secuencia de variables aleatorias con distribución de probabilidad $f_\\theta(y_1,\\ldots,y_n)$ que depende de un parámetro desconocido $\\theta$. Se dice que el estadístico $t=t(y_1,\\ldots,y_n)$ es **suficiente** para $\\theta$ si la distribución condicional de $y_1,\\ldots,y_n$ dado $t$ no depende de $\\theta$.\n",
    "\n",
    "**(Teorema de Factorización de Fisher-Neyman.)** $t(y_1,\\ldots,y_n)$ es un **estadístico suficiente** para $\\theta$ si y sólo si se pueden encontrar dos funciones no negativas $h$ y $g_\\theta$ tales que $f_\\theta(y_1,\\ldots,y_n) = h(y_1,\\ldots,y_n)\\,g_\\theta(t(y_1,\\ldots,y_n))$.\n",
    "\n",
    "Por lo tanto, la distribución posterior es\n",
    "$$\n",
    "p(\\theta\\mid\\boldsymbol{y}) \\propto \\theta^{s}(1-\\theta)^{n - s}\\,p(\\theta)\\,,\n",
    "$$\n",
    "\n",
    "Dado que las $y_i$'s son condicionalmente i.i.d. dado $\\theta$ y $s$ es un estadístico suficiente para $\\theta$, entonces se acostumbra utilizar el modelo\n",
    "$$\n",
    "\\begin{align*}\n",
    "s\\mid\\theta &\\sim \\textsf{Bin}(n,\\theta) \\\\\n",
    "\\theta &\\sim p(\\theta) \n",
    "\\end{align*}\n",
    "$$"
   ]
  },
  {
   "cell_type": "markdown",
   "id": "behavioral-elder",
   "metadata": {},
   "source": [
    "## 2 Familias conjugadas\n",
    "\n",
    "La idea básica consiste en encontrar una familia de distribuciones $\\mathcal{P}$ de tal forma que el producto de los miembros de esta familia con la distribución muestral también sea parte de $\\mathcal{P}$.\n",
    "\n",
    "**(Definición.)** Una familia de distribuciones $\\mathcal{P}$ se denomina **conjugada** para una distribución muestral dada $p(\\boldsymbol{y}\\mid\\boldsymbol{\\theta})$, si $p(\\boldsymbol{\\theta}) \\in \\mathcal{P}$ entonces $p(\\boldsymbol{\\theta}\\mid \\boldsymbol{y}) \\in \\mathcal{P}$.\n",
    "\n",
    "Las previas conjugadas conllevan a **cálculos fáciles de realizar**, pero algunos casos pueden ser **poco flexibles** para representar Su estado de información previa.\n",
    "\n",
    "La distribución previa **no tiene que ser necesariamente** conjugada.\n",
    "\n",
    "**(Teorema.)** Dada una distribución muestral miembro de la familia exponencial, cualquier información previa se puede expresar como una **mezcla de previas conjugadas** (Diaconis & Ylvisaker, 1985).\n",
    "\n",
    "***Diaconis, P., & Ylvisaker, D. (1985). Quantifying Prior Opinion, Bayesian Statistics. Vol. 2.***\n"
   ]
  },
  {
   "cell_type": "markdown",
   "id": "prompt-bermuda",
   "metadata": {},
   "source": [
    "## 3 Modelo Beta-Binomial \n",
    "\n",
    "La familia de distribuciones **Beta** es **conjugada** para la distribución muestral **Binomial**.\n",
    "\n",
    "La variable aleatoria $X$ tiene **distribución Beta** con parámetros $\\alpha,\\beta > 0$, i.e., $X\\mid\\alpha,\\beta\\sim\\textsf{Beta}(\\alpha,\\beta)$, si su función de densidad de probabilidad es\n",
    "$$\n",
    "p(x\\mid\\alpha,\\beta) = \\frac{\\Gamma(\\alpha+\\beta)}{\\Gamma(\\alpha)\\,\\Gamma(\\beta)}\\,x^{\\alpha-1}\\,(1-x)^{\\beta-1},\\quad 0<x<1\\,,\n",
    "$$\n",
    "donde $\\Gamma(x)=\\int_0^\\infty u^{x-1}\\,e^{-u}\\,\\text{d}u$ es la función Gamma.\n",
    "\n",
    "Así, el **modelo Beta-Binomial** es\n",
    "\\begin{align*}\n",
    "s\\mid\\theta &\\sim \\textsf{Bin}(s\\mid n,\\theta) \\\\\n",
    "\\theta &\\sim \\textsf{Beta}(a,b)\n",
    "\\end{align*}\n",
    "donde $a$ y $b$ son los **hiperparámetros** (cantidades fijas conocidas) del modelo. Los hiperparámetros se eligen de tal forma que la distribución previa **refleje Su estado de información** previo. \n",
    "\n",
    "Bajo el **modelo Beta-Binomial** se tiene que la **distribución posterior** es\n",
    "$$\n",
    "\\theta\\mid s \\sim \\textsf{Beta}(\\theta\\mid a + s, b+n-s)\\,.\n",
    "$$\n",
    "\n",
    "Además, la **distribución marginal** de $s$ es \n",
    "$$\n",
    "  p(s) = \\frac{\\Gamma(n+1)}{\\Gamma(s+1)\\Gamma(n-s+1)}\\,\\frac{\\Gamma(a+b)}{\\Gamma(a)\\,\\Gamma(b)}\\,\\frac{\\Gamma(a+s)\\,\\Gamma(b+n-s)}{\\Gamma(a+b+n)}\\,.\n",
    "$$\n",
    "Esta distribución se denomina **distribución Beta-Binomial** (mezcla de distribuciones Binomial, usando como pesos valores de una distribución Beta).\n",
    "\n",
    "De otra parte, la **media posterior** es\n",
    "$$\n",
    "\\textsf{E}(\\theta\\mid s) = \\frac{a+s}{a+b+n} = \\frac{a+b}{a+b+n}\\cdot\\frac{a}{a+b}+\\frac{n}{a+b+n}\\cdot\\frac{s}{n}\\,,\n",
    "$$\n",
    "la cual es un **promedio ponderado** del valor esperado previo y la media muestral. \n",
    "\n",
    "**(Propiedad.)** Utilizando familias conjugadas, la media posterior se puede expresar como un **promedio ponderado** de la media previa y la media muestral con pesos proporcionales al tamaño de la muestra previa y el tamaño de la muestra.\n",
    "\n",
    "- Tal observación conlleva a la siguiente interpretación de los hiperparámetros: \n",
    "    - $a$ = número previo de 1's.\n",
    "    - $b$ = número previo de 0's. \n",
    "    - $a+b$ = tamaño muestral previo.\n",
    "- Si $n >> a+b$, entonces la mayoría de la información sobre $\\theta$ proviene de los datos en lugar de la información previa. \n",
    "\n",
    "**(Propiedad.)** Los resultados Bayesianos son **aproximadamente iguales a los frecuentistas** si: \n",
    "\n",
    "1. la distribución previa es difusa (no informativa) y \n",
    "2. el tamaño de la muestra es \"grande\".\n",
    "\n",
    "Con tamaños de muestra pequeños, las propiedades frecuentistas no son buenas y la alternativa Bayesiana constituye una mejor alternativa.\n",
    "\n",
    "También, la **distribución predictiva posterior** de una observación futura $y^*$ es \n",
    "$$\n",
    "p(y^* \\mid \\boldsymbol{y}) = \\int_\\Theta p(y^*,\\boldsymbol{\\theta}\\mid\\boldsymbol{y})\\,\\textsf{d}\\boldsymbol{\\theta}  =\\int_\\Theta p(y^*\\mid\\boldsymbol{\\theta})\\,p(\\boldsymbol{\\theta}\\mid\\boldsymbol{y})\\,\\textsf{d}\\boldsymbol{\\theta}\\,.\n",
    "$$\n",
    "\n",
    "Bajo el modelo Beta-Binomial se tiene que\n",
    "$$\n",
    "\\textsf{Pr}(y^*=1\\mid s) = \\frac{a+s}{a+b+n}\\,.\n",
    "$$\n",
    "La distribución predictiva posterior **no depende** de cantidades desconocidas. La distribución predictiva depende de los datos. Por tal motivo, $y^*$ no es independiente de $s$.\n"
   ]
  },
  {
   "cell_type": "markdown",
   "id": "considerable-plaza",
   "metadata": {},
   "source": [
    "## 4 Regiones de confianza\n",
    "\n",
    "\n",
    "**(Definición.)** Una **región de confianza** para $\\boldsymbol{\\theta}$ es una región del espacio de parámetros $\\Theta$ que contiene a $\\boldsymbol{\\theta}$ con alta probabilidad. \n",
    "\n",
    "Por ejemplo, en el caso univariado, luego de observar los datos se construye un intervalo $(l,u)$ tal que $\\textsf{Pr}(l<\\theta<u\\mid \\boldsymbol{y})$ sea alta.\n",
    "\n",
    "**Nivel de confianza Bayesiano**: probabilidad de que el intervalo cubra el verdadero valor del parámetro **después** de que los datos sean observados.\n",
    "\n",
    "**Nivel de confianza Frecuentista**: probabilidad de que el intervalo cubra el verdadero valor del parámetro **antes** de que los datos sean observados. La confiabilidad está en el proceso. ¿A qué es igual esta probabilidad una vez se han observado los datos?\n",
    "\n",
    "En el caso univariado, la manera más sencilla de obtener **intervalos de credibilidad** en el paradigma Bayesiano es por medio de los percentiles de la distribución posterior: $(\\theta_{\\alpha/2},\\theta_{1-\\alpha/2}\\mid \\boldsymbol{y})$ es una región de confianza al $100(1-\\alpha)\\%$ basado en cuantiles, y por lo tanto\n",
    "$$\n",
    "\\textsf{Pr}\\left(\\theta_{\\alpha/2} < \\theta < \\theta_{1-\\alpha/2}\\mid \\boldsymbol{y}\\right) = 1-\\alpha\\,.\n",
    "$$\n",
    "\n",
    "**(Teorema.)** Un intervalo de credibilidad con un nivel de confianza Bayesiano de $(1-\\alpha)\\%$, también tiene asintóticamente un nivel de confianza Frecuentista de $(1-\\alpha)\\%$ (Hartigan, 1966).\n",
    "\n",
    "***Hartigan, J. A. (1966). Note on the confidence‐prior of Welch and Peers. Journal of the Royal Statistical Society: Series B (Methodological), 28(1), 55-56.***\n"
   ]
  },
  {
   "cell_type": "markdown",
   "id": "regulated-money",
   "metadata": {},
   "source": [
    "## 5 Ejemplo: Víctimas violencia sexual\n",
    "\n",
    "Datos de las víctimas de violencia sexual suministrados por el **Observatorio de Memoria y Conflicto** y el **Centro Nacional de Memoria Histórica** disponibles en https://micrositios.centrodememoriahistorica.gov.co/observatorio/portal-de-datos/base-de-datos/.\n"
   ]
  },
  {
   "cell_type": "code",
   "execution_count": 2,
   "id": "intellectual-thirty",
   "metadata": {},
   "outputs": [
    {
     "data": {
      "text/plain": [
       "(15886, 18)"
      ]
     },
     "execution_count": 2,
     "metadata": {},
     "output_type": "execute_result"
    }
   ],
   "source": [
    "# datos\n",
    "df = pd.read_csv('VictimasVS-1231221.txt', sep = '\\t')\n",
    "# dimension\n",
    "df.shape"
   ]
  },
  {
   "cell_type": "code",
   "execution_count": 3,
   "id": "comfortable-henry",
   "metadata": {},
   "outputs": [
    {
     "data": {
      "text/plain": [
       "['id_caso',\n",
       " 'codigo_dane_municipio',\n",
       " 'municipio',\n",
       " 'departamento',\n",
       " 'agno',\n",
       " 'mes',\n",
       " 'dia',\n",
       " 'id_persona',\n",
       " 'sexo',\n",
       " 'etnia',\n",
       " 'ocupacion',\n",
       " 'calidad_victima',\n",
       " 'tipo_poblacion',\n",
       " 'militante_politico',\n",
       " 'grupo_armado',\n",
       " 'descripcion_grupo_armado',\n",
       " 'situacion_victima',\n",
       " 'edad']"
      ]
     },
     "execution_count": 3,
     "metadata": {},
     "output_type": "execute_result"
    }
   ],
   "source": [
    "# variables\n",
    "list(df.columns)"
   ]
  },
  {
   "cell_type": "code",
   "execution_count": 4,
   "id": "compact-hazard",
   "metadata": {},
   "outputs": [
    {
     "data": {
      "text/plain": [
       "Mujer              14378\n",
       "Hombre              1481\n",
       "Sin Informacion       27\n",
       "Name: sexo, dtype: int64"
      ]
     },
     "execution_count": 4,
     "metadata": {},
     "output_type": "execute_result"
    }
   ],
   "source": [
    "# frecuencias sexo\n",
    "df.sexo.value_counts()"
   ]
  },
  {
   "cell_type": "code",
   "execution_count": 5,
   "id": "entertaining-religious",
   "metadata": {},
   "outputs": [
    {
     "data": {
      "text/plain": [
       "0.0016996097192496537"
      ]
     },
     "execution_count": 5,
     "metadata": {},
     "output_type": "execute_result"
    }
   ],
   "source": [
    "# proporcion datos faltantes\n",
    "27/15886"
   ]
  },
  {
   "cell_type": "markdown",
   "id": "cleared-engine",
   "metadata": {},
   "source": [
    "Se define $y_i = 1$ si el individuo $i$ es mujer, y $y_i = 0$ en caso contrario, $i = 1,\\ldots,n$."
   ]
  },
  {
   "cell_type": "code",
   "execution_count": 6,
   "id": "stopped-prefix",
   "metadata": {},
   "outputs": [
    {
     "data": {
      "text/plain": [
       "1    14378\n",
       "0     1481\n",
       "Name: sexo, dtype: int64"
      ]
     },
     "execution_count": 6,
     "metadata": {},
     "output_type": "execute_result"
    }
   ],
   "source": [
    "# codificacion\n",
    "df = df[df.sexo != 'Sin Informacion']\n",
    "df = df.replace('Mujer', 1)\n",
    "df = df.replace('Hombre', 0)\n",
    "df.sexo.value_counts()"
   ]
  },
  {
   "cell_type": "code",
   "execution_count": 7,
   "id": "western-friday",
   "metadata": {},
   "outputs": [
    {
     "data": {
      "text/plain": [
       "1    69\n",
       "0    11\n",
       "Name: sexo, dtype: int64"
      ]
     },
     "execution_count": 7,
     "metadata": {},
     "output_type": "execute_result"
    }
   ],
   "source": [
    "# extraccion: año 2016\n",
    "y = df[df.agno == 2016].sexo\n",
    "# frecuencias\n",
    "y.value_counts()"
   ]
  },
  {
   "cell_type": "code",
   "execution_count": 8,
   "id": "smaller-default",
   "metadata": {},
   "outputs": [
    {
     "name": "stdout",
     "output_type": "stream",
     "text": [
      "80\n"
     ]
    }
   ],
   "source": [
    "# tamaño de muestra\n",
    "n = len(y)\n",
    "print(n)"
   ]
  },
  {
   "cell_type": "code",
   "execution_count": 9,
   "id": "seeing-lightning",
   "metadata": {},
   "outputs": [
    {
     "name": "stdout",
     "output_type": "stream",
     "text": [
      "69\n"
     ]
    }
   ],
   "source": [
    "# estadístico suficiente\n",
    "sy = np.sum(y)\n",
    "print(sy)"
   ]
  },
  {
   "cell_type": "code",
   "execution_count": 10,
   "id": "balanced-visitor",
   "metadata": {},
   "outputs": [],
   "source": [
    "# hiperparámetros: previa Beta(1,1)\n",
    "a = 1\n",
    "b = 1"
   ]
  },
  {
   "cell_type": "code",
   "execution_count": 11,
   "id": "composite-class",
   "metadata": {},
   "outputs": [
    {
     "name": "stdout",
     "output_type": "stream",
     "text": [
      "70\n",
      "12\n"
     ]
    }
   ],
   "source": [
    "# parametros de la posterior\n",
    "ap = a + sy\n",
    "print(ap)\n",
    "bp = b + n - sy\n",
    "print(bp)"
   ]
  },
  {
   "cell_type": "code",
   "execution_count": 12,
   "id": "medieval-newport",
   "metadata": {},
   "outputs": [
    {
     "data": {
      "image/png": "[encoded data removed]",
      "text/plain": [
       "<Figure size 650x450 with 1 Axes>"
      ]
     },
     "metadata": {
      "needs_background": "light"
     },
     "output_type": "display_data"
    }
   ],
   "source": [
    "# grafico\n",
    "my_grid = np.linspace(0.6, 1, 1000)\n",
    "f = plt.figure(figsize = (6.5,4.5), dpi = 100)\n",
    "axes = f.add_axes([0.1,0.1,0.9,0.9])\n",
    "axes.set_xlabel(r'$\\theta$')\n",
    "axes.set_ylabel(r'$p(\\theta|y)$')\n",
    "axes.axhline(y = 1, color = '#000000', label = 'Previa')\n",
    "axes.plot(my_grid, st.beta.pdf(my_grid, ap, bp), color = '#0095E1', label = 'Posterior')\n",
    "plt.grid(color = '#e0e0e0')\n",
    "plt.legend(loc = 0, frameon = False)\n",
    "plt.show()"
   ]
  },
  {
   "cell_type": "code",
   "execution_count": 13,
   "id": "loaded-merit",
   "metadata": {},
   "outputs": [
    {
     "data": {
      "text/plain": [
       "0.8625"
      ]
     },
     "execution_count": 13,
     "metadata": {},
     "output_type": "execute_result"
    }
   ],
   "source": [
    "# moda posterior\n",
    "(ap - 1)/(ap + bp - 2)"
   ]
  },
  {
   "cell_type": "code",
   "execution_count": 14,
   "id": "canadian-questionnaire",
   "metadata": {},
   "outputs": [
    {
     "data": {
      "text/plain": [
       "0.8536585365853658"
      ]
     },
     "execution_count": 14,
     "metadata": {},
     "output_type": "execute_result"
    }
   ],
   "source": [
    "# media posterior\n",
    "ap/(ap + bp)"
   ]
  },
  {
   "cell_type": "code",
   "execution_count": 15,
   "id": "demographic-federation",
   "metadata": {},
   "outputs": [
    {
     "data": {
      "text/plain": [
       "0.8565573770491804"
      ]
     },
     "execution_count": 15,
     "metadata": {},
     "output_type": "execute_result"
    }
   ],
   "source": [
    "# mediana posterior\n",
    "(ap - 1/3)/(ap + bp - 2/3)"
   ]
  },
  {
   "cell_type": "code",
   "execution_count": 16,
   "id": "precious-brunei",
   "metadata": {},
   "outputs": [
    {
     "data": {
      "text/plain": [
       "0.0015051281867505715"
      ]
     },
     "execution_count": 16,
     "metadata": {},
     "output_type": "execute_result"
    }
   ],
   "source": [
    "# varianza posterior\n",
    "(ap*bp)/((ap + bp)**2*(ap + bp + 1))"
   ]
  },
  {
   "cell_type": "code",
   "execution_count": 17,
   "id": "unlike-violence",
   "metadata": {},
   "outputs": [
    {
     "data": {
      "text/plain": [
       "0.045446721279351156"
      ]
     },
     "execution_count": 17,
     "metadata": {},
     "output_type": "execute_result"
    }
   ],
   "source": [
    "# coeficiente de variación\n",
    "np.sqrt((ap*bp)/((ap + bp)**2*(ap + bp + 1)))/(ap/(ap + bp))"
   ]
  },
  {
   "cell_type": "code",
   "execution_count": 18,
   "id": "unauthorized-masters",
   "metadata": {},
   "outputs": [
    {
     "data": {
      "text/plain": [
       "array([0.76999037, 0.92103799])"
      ]
     },
     "execution_count": 18,
     "metadata": {},
     "output_type": "execute_result"
    }
   ],
   "source": [
    "# intervalo de credibilidad al 95%\n",
    "st.beta.ppf([0.025,0.975], ap, bp)"
   ]
  },
  {
   "cell_type": "code",
   "execution_count": 19,
   "id": "sunset-night",
   "metadata": {},
   "outputs": [
    {
     "data": {
      "text/plain": [
       "0.7699903684379342"
      ]
     },
     "execution_count": 19,
     "metadata": {},
     "output_type": "execute_result"
    }
   ],
   "source": [
    "st.beta.ppf(0.025, ap, bp)"
   ]
  },
  {
   "cell_type": "code",
   "execution_count": 20,
   "id": "streaming-bicycle",
   "metadata": {},
   "outputs": [
    {
     "data": {
      "image/png": "[encoded data removed]",
      "text/plain": [
       "<Figure size 650x450 with 1 Axes>"
      ]
     },
     "metadata": {
      "needs_background": "light"
     },
     "output_type": "display_data"
    }
   ],
   "source": [
    "# grafico\n",
    "f = plt.figure(figsize = (6.5,4.5), dpi = 100)\n",
    "axes = f.add_axes([0.1,0.1,0.9,0.9])\n",
    "axes.set_xlabel(r'$\\theta$')\n",
    "axes.set_ylabel(r'$p(\\theta|y)$')\n",
    "axes.axhline(y = 1, color = '#000000', label = 'Previa')\n",
    "axes.plot(my_grid, st.beta.pdf(my_grid, ap, bp), color = '#0095E1', label = 'Posterior')\n",
    "axes.axvline(x = st.beta.ppf(0.025, ap, bp), color = '#F4143D', label = 'IC 95%', ls = '--')\n",
    "axes.axvline(x = st.beta.ppf(0.975, ap, bp), color = '#F4143D', ls = '--')\n",
    "axes.axvline(x = ap/(ap+bp), color = '#3FBA22', label = 'Media', ls = '--')\n",
    "plt.grid(color = '#e0e0e0')\n",
    "plt.legend(loc = 0, frameon = False)\n",
    "plt.show()"
   ]
  },
  {
   "cell_type": "code",
   "execution_count": 21,
   "id": "gross-illness",
   "metadata": {},
   "outputs": [
    {
     "data": {
      "text/plain": [
       "0.19999999999999996"
      ]
     },
     "execution_count": 21,
     "metadata": {},
     "output_type": "execute_result"
    }
   ],
   "source": [
    "# probabilidad a priori de que theta > 0.8\n",
    "st.beta.sf(0.8,a,b)\n",
    "# sf es la función de sobrevivencia definida como 1 - cdf donde cdf es la función de densidad acumulada o función de distribución."
   ]
  },
  {
   "cell_type": "code",
   "execution_count": 22,
   "id": "vulnerable-robinson",
   "metadata": {},
   "outputs": [
    {
     "data": {
      "text/plain": [
       "0.9082293936845718"
      ]
     },
     "execution_count": 22,
     "metadata": {},
     "output_type": "execute_result"
    }
   ],
   "source": [
    "# probabilidad a posteriori de que theta > 0.8\n",
    "st.beta.sf(0.8,ap,bp)"
   ]
  },
  {
   "cell_type": "markdown",
   "id": "scenic-artwork",
   "metadata": {},
   "source": [
    "## 6 Ejemplo: Víctimas violencia sexual\n",
    "\n",
    "El 91.8% de los abusos sexuales en Colombia pertenecen a mujeres.\n",
    "\n",
    "https://www.semana.com/nacion/articulo/el-918-de-los-abusos-sexuales-en-colombia-pertenecen-a-mujeres/202212/\n"
   ]
  },
  {
   "cell_type": "code",
   "execution_count": 23,
   "id": "different-kenya",
   "metadata": {},
   "outputs": [
    {
     "data": {
      "text/html": [
       "<div>\n",
       "<style scoped>\n",
       "    .dataframe tbody tr th:only-of-type {\n",
       "        vertical-align: middle;\n",
       "    }\n",
       "\n",
       "    .dataframe tbody tr th {\n",
       "        vertical-align: top;\n",
       "    }\n",
       "\n",
       "    .dataframe thead th {\n",
       "        text-align: right;\n",
       "    }\n",
       "</style>\n",
       "<table border=\"1\" class=\"dataframe\">\n",
       "  <thead>\n",
       "    <tr style=\"text-align: right;\">\n",
       "      <th></th>\n",
       "      <th>Año</th>\n",
       "      <th>n</th>\n",
       "      <th>Media</th>\n",
       "      <th>CV</th>\n",
       "      <th>Q2.5%</th>\n",
       "      <th>Q97.5%</th>\n",
       "    </tr>\n",
       "  </thead>\n",
       "  <tbody>\n",
       "    <tr>\n",
       "      <th>0</th>\n",
       "      <td>2000</td>\n",
       "      <td>1181</td>\n",
       "      <td>0.932</td>\n",
       "      <td>0.008</td>\n",
       "      <td>0.916</td>\n",
       "      <td>0.945</td>\n",
       "    </tr>\n",
       "    <tr>\n",
       "      <th>1</th>\n",
       "      <td>2001</td>\n",
       "      <td>1125</td>\n",
       "      <td>0.913</td>\n",
       "      <td>0.009</td>\n",
       "      <td>0.896</td>\n",
       "      <td>0.929</td>\n",
       "    </tr>\n",
       "    <tr>\n",
       "      <th>2</th>\n",
       "      <td>2002</td>\n",
       "      <td>1486</td>\n",
       "      <td>0.894</td>\n",
       "      <td>0.009</td>\n",
       "      <td>0.878</td>\n",
       "      <td>0.909</td>\n",
       "    </tr>\n",
       "    <tr>\n",
       "      <th>3</th>\n",
       "      <td>2003</td>\n",
       "      <td>1325</td>\n",
       "      <td>0.909</td>\n",
       "      <td>0.009</td>\n",
       "      <td>0.893</td>\n",
       "      <td>0.924</td>\n",
       "    </tr>\n",
       "    <tr>\n",
       "      <th>4</th>\n",
       "      <td>2004</td>\n",
       "      <td>1145</td>\n",
       "      <td>0.935</td>\n",
       "      <td>0.008</td>\n",
       "      <td>0.920</td>\n",
       "      <td>0.948</td>\n",
       "    </tr>\n",
       "    <tr>\n",
       "      <th>5</th>\n",
       "      <td>2005</td>\n",
       "      <td>925</td>\n",
       "      <td>0.915</td>\n",
       "      <td>0.010</td>\n",
       "      <td>0.896</td>\n",
       "      <td>0.932</td>\n",
       "    </tr>\n",
       "    <tr>\n",
       "      <th>6</th>\n",
       "      <td>2006</td>\n",
       "      <td>565</td>\n",
       "      <td>0.919</td>\n",
       "      <td>0.012</td>\n",
       "      <td>0.895</td>\n",
       "      <td>0.940</td>\n",
       "    </tr>\n",
       "    <tr>\n",
       "      <th>7</th>\n",
       "      <td>2007</td>\n",
       "      <td>439</td>\n",
       "      <td>0.930</td>\n",
       "      <td>0.013</td>\n",
       "      <td>0.904</td>\n",
       "      <td>0.952</td>\n",
       "    </tr>\n",
       "    <tr>\n",
       "      <th>8</th>\n",
       "      <td>2008</td>\n",
       "      <td>402</td>\n",
       "      <td>0.913</td>\n",
       "      <td>0.015</td>\n",
       "      <td>0.884</td>\n",
       "      <td>0.939</td>\n",
       "    </tr>\n",
       "    <tr>\n",
       "      <th>9</th>\n",
       "      <td>2009</td>\n",
       "      <td>325</td>\n",
       "      <td>0.930</td>\n",
       "      <td>0.015</td>\n",
       "      <td>0.900</td>\n",
       "      <td>0.955</td>\n",
       "    </tr>\n",
       "    <tr>\n",
       "      <th>10</th>\n",
       "      <td>2010</td>\n",
       "      <td>316</td>\n",
       "      <td>0.906</td>\n",
       "      <td>0.018</td>\n",
       "      <td>0.871</td>\n",
       "      <td>0.935</td>\n",
       "    </tr>\n",
       "    <tr>\n",
       "      <th>11</th>\n",
       "      <td>2011</td>\n",
       "      <td>314</td>\n",
       "      <td>0.921</td>\n",
       "      <td>0.016</td>\n",
       "      <td>0.889</td>\n",
       "      <td>0.948</td>\n",
       "    </tr>\n",
       "    <tr>\n",
       "      <th>12</th>\n",
       "      <td>2012</td>\n",
       "      <td>398</td>\n",
       "      <td>0.950</td>\n",
       "      <td>0.011</td>\n",
       "      <td>0.927</td>\n",
       "      <td>0.969</td>\n",
       "    </tr>\n",
       "    <tr>\n",
       "      <th>13</th>\n",
       "      <td>2013</td>\n",
       "      <td>414</td>\n",
       "      <td>0.921</td>\n",
       "      <td>0.014</td>\n",
       "      <td>0.893</td>\n",
       "      <td>0.945</td>\n",
       "    </tr>\n",
       "    <tr>\n",
       "      <th>14</th>\n",
       "      <td>2014</td>\n",
       "      <td>668</td>\n",
       "      <td>0.943</td>\n",
       "      <td>0.009</td>\n",
       "      <td>0.925</td>\n",
       "      <td>0.959</td>\n",
       "    </tr>\n",
       "    <tr>\n",
       "      <th>15</th>\n",
       "      <td>2015</td>\n",
       "      <td>331</td>\n",
       "      <td>0.937</td>\n",
       "      <td>0.014</td>\n",
       "      <td>0.908</td>\n",
       "      <td>0.960</td>\n",
       "    </tr>\n",
       "    <tr>\n",
       "      <th>16</th>\n",
       "      <td>2016</td>\n",
       "      <td>80</td>\n",
       "      <td>0.854</td>\n",
       "      <td>0.045</td>\n",
       "      <td>0.770</td>\n",
       "      <td>0.921</td>\n",
       "    </tr>\n",
       "    <tr>\n",
       "      <th>17</th>\n",
       "      <td>2017</td>\n",
       "      <td>30</td>\n",
       "      <td>0.875</td>\n",
       "      <td>0.066</td>\n",
       "      <td>0.742</td>\n",
       "      <td>0.964</td>\n",
       "    </tr>\n",
       "    <tr>\n",
       "      <th>18</th>\n",
       "      <td>2018</td>\n",
       "      <td>22</td>\n",
       "      <td>0.917</td>\n",
       "      <td>0.060</td>\n",
       "      <td>0.781</td>\n",
       "      <td>0.989</td>\n",
       "    </tr>\n",
       "    <tr>\n",
       "      <th>19</th>\n",
       "      <td>2019</td>\n",
       "      <td>35</td>\n",
       "      <td>0.838</td>\n",
       "      <td>0.071</td>\n",
       "      <td>0.705</td>\n",
       "      <td>0.936</td>\n",
       "    </tr>\n",
       "    <tr>\n",
       "      <th>20</th>\n",
       "      <td>2020</td>\n",
       "      <td>14</td>\n",
       "      <td>0.688</td>\n",
       "      <td>0.164</td>\n",
       "      <td>0.449</td>\n",
       "      <td>0.882</td>\n",
       "    </tr>\n",
       "    <tr>\n",
       "      <th>21</th>\n",
       "      <td>2021</td>\n",
       "      <td>9</td>\n",
       "      <td>0.909</td>\n",
       "      <td>0.091</td>\n",
       "      <td>0.692</td>\n",
       "      <td>0.997</td>\n",
       "    </tr>\n",
       "  </tbody>\n",
       "</table>\n",
       "</div>"
      ],
      "text/plain": [
       "     Año     n  Media     CV  Q2.5%  Q97.5%\n",
       "0   2000  1181  0.932  0.008  0.916   0.945\n",
       "1   2001  1125  0.913  0.009  0.896   0.929\n",
       "2   2002  1486  0.894  0.009  0.878   0.909\n",
       "3   2003  1325  0.909  0.009  0.893   0.924\n",
       "4   2004  1145  0.935  0.008  0.920   0.948\n",
       "5   2005   925  0.915  0.010  0.896   0.932\n",
       "6   2006   565  0.919  0.012  0.895   0.940\n",
       "7   2007   439  0.930  0.013  0.904   0.952\n",
       "8   2008   402  0.913  0.015  0.884   0.939\n",
       "9   2009   325  0.930  0.015  0.900   0.955\n",
       "10  2010   316  0.906  0.018  0.871   0.935\n",
       "11  2011   314  0.921  0.016  0.889   0.948\n",
       "12  2012   398  0.950  0.011  0.927   0.969\n",
       "13  2013   414  0.921  0.014  0.893   0.945\n",
       "14  2014   668  0.943  0.009  0.925   0.959\n",
       "15  2015   331  0.937  0.014  0.908   0.960\n",
       "16  2016    80  0.854  0.045  0.770   0.921\n",
       "17  2017    30  0.875  0.066  0.742   0.964\n",
       "18  2018    22  0.917  0.060  0.781   0.989\n",
       "19  2019    35  0.838  0.071  0.705   0.936\n",
       "20  2020    14  0.688  0.164  0.449   0.882\n",
       "21  2021     9  0.909  0.091  0.692   0.997"
      ]
     },
     "execution_count": 23,
     "metadata": {},
     "output_type": "execute_result"
    }
   ],
   "source": [
    "# hiperparámetros: previa Beta(1,1)\n",
    "a = 1\n",
    "b = 1\n",
    "# ajuste del modelo por año\n",
    "# out = np.zeros((22,5))\n",
    "out = []\n",
    "for agno in range(2000,2022):\n",
    "    # datos por año\n",
    "    y = df[df.agno == agno].sexo\n",
    "    n = len(y)\n",
    "    sy = np.sum(y)\n",
    "    # parámetros de la posterior\n",
    "    ap = a + sy\n",
    "    bp = b + n - sy\n",
    "    # media, desv. estandar, intervalos de credibilidad\n",
    "    me = ap/(ap + bp)\n",
    "    de = np.sqrt((ap*bp)/((ap + bp)**2*(ap + bp + 1)))\n",
    "    ic95 = st.beta.ppf([0.025,0.975], ap, bp)\n",
    "    # almacenar\n",
    "    out.append([agno,n,me,de/me] + list(ic95))\n",
    "\n",
    "# tabla\n",
    "out = pd.DataFrame(data = out,columns = [\"Año\",\"n\",\"Media\",\"CV\",\"Q2.5%\",\"Q97.5%\"])\n",
    "round(out,3)"
   ]
  },
  {
   "cell_type": "code",
   "execution_count": 24,
   "id": "civilian-china",
   "metadata": {},
   "outputs": [
    {
     "data": {
      "image/png": "[encoded data removed]",
      "text/plain": [
       "<Figure size 800x500 with 1 Axes>"
      ]
     },
     "metadata": {
      "needs_background": "light"
     },
     "output_type": "display_data"
    }
   ],
   "source": [
    "col = np.array(['#000000']*out.shape[0])\n",
    "col[out[\"Q2.5%\"] > 0.918] = '#F4143D'\n",
    "col[out[\"Q97.5%\"] < 0.918] = '#3FBA22'\n",
    "f = plt.figure(figsize = (8,5), dpi = 100)\n",
    "axes = f.add_axes([0.1,0.1,0.9,0.9])\n",
    "axes.set_xlabel('Año')\n",
    "axes.set_ylabel(r'$\\theta$')\n",
    "for i in range(out.shape[0]):\n",
    "    axes.axvline(x = out.Año[i], color = '#eeeeee', ls = '-')\n",
    "    axes.plot([out.Año[i]]*2, [out['Q2.5%'][i],out['Q97.5%'][i]], color = col[i], linewidth = 1)\n",
    "axes.axhline(y = 0.918, color = '#000000', ls = '--')\n",
    "axes.scatter(out['Año'], out['Media'], color = col)    \n",
    "axes.plot(out['Año'], out['Media'], color = '#4040ff', linewidth = 0.7) \n",
    "axes.set_ylim([0.3,1.02])\n",
    "axes.set_xticks(out['Año'])\n",
    "plt.xticks(rotation = 90)\n",
    "plt.show()"
   ]
  },
  {
   "cell_type": "code",
   "execution_count": 25,
   "id": "given-bristol",
   "metadata": {},
   "outputs": [
    {
     "data": {
      "image/png": "[encoded data removed]",
      "text/plain": [
       "<Figure size 800x500 with 1 Axes>"
      ]
     },
     "metadata": {
      "needs_background": "light"
     },
     "output_type": "display_data"
    }
   ],
   "source": [
    "f = plt.figure(figsize = (8,5), dpi = 100)\n",
    "axes = f.add_axes([0.1,0.1,0.9,0.9])\n",
    "axes.set_xlabel('Año')\n",
    "axes.set_ylabel('Coef. Variación')\n",
    "axes.scatter(out['Año'], out['CV'], color = '#000000')  \n",
    "axes.plot(out['Año'], out['CV'], color = '#1EB4E8', linewidth = 1)  \n",
    "axes.axhline(y = 0.05, color = '#80ff80', ls = '--', linewidth = 1)\n",
    "axes.axhline(y = 0.10, color = '#E8C91E', ls = '--', linewidth = 1)\n",
    "axes.axhline(y = 0.15, color = '#E81E6B', ls = '--', linewidth = 1)\n",
    "axes.set_ylim([0.0,0.2])\n",
    "axes.set_xticks(out['Año'])\n",
    "plt.xticks(rotation = 90)\n",
    "plt.show()"
   ]
  },
  {
   "cell_type": "code",
   "execution_count": 26,
   "id": "logical-employer",
   "metadata": {},
   "outputs": [
    {
     "data": {
      "image/png": "[encoded data removed]",
      "text/plain": [
       "<Figure size 800x500 with 1 Axes>"
      ]
     },
     "metadata": {
      "needs_background": "light"
     },
     "output_type": "display_data"
    }
   ],
   "source": [
    "f = plt.figure(figsize = (8,5), dpi = 100)\n",
    "axes = f.add_axes([0.1,0.1,0.9,0.9])\n",
    "axes.set_xlabel('Año')\n",
    "axes.set_ylabel('Coef. Variación')\n",
    "plt.grid(color = '#f0f0f0')\n",
    "axes.scatter(out['Año'], out['n'], color = '#000000')  \n",
    "axes.plot(out['Año'], out['n'], color = '#1EB4E8', linewidth = 1)  \n",
    "axes.set_ylim([0.0,1650])\n",
    "axes.set_xticks(out['Año'])\n",
    "plt.xticks(rotation = 90)\n",
    "for i in range(out.shape[0]):\n",
    "    axes.text(out['Año'][i]-0.5, out['n'][i]+50, out['n'][i])\n",
    "plt.show()"
   ]
  },
  {
   "cell_type": "markdown",
   "id": "owned-martial",
   "metadata": {},
   "source": [
    "\n",
    "## 7 Ejemplo: Simulación\n",
    "\n",
    "Simular $N = 10000$ veces $s\\sim\\textsf{Bin}(n,\\theta)$ para $\\theta\\in\\{0.5,0.7,0.9,0.99\\}$ y $n\\in\\{5,30,100\\}$, para calcular la cobertura frecuentista (calibración) del intervalo de credibilidad y el intervalo de confianza para $\\theta$ con base la muestra aleatoria de tamaño $n$.\n"
   ]
  },
  {
   "cell_type": "code",
   "execution_count": 27,
   "id": "chief-charleston",
   "metadata": {},
   "outputs": [
    {
     "data": {
      "text/html": [
       "<div>\n",
       "<style scoped>\n",
       "    .dataframe tbody tr th:only-of-type {\n",
       "        vertical-align: middle;\n",
       "    }\n",
       "\n",
       "    .dataframe tbody tr th {\n",
       "        vertical-align: top;\n",
       "    }\n",
       "\n",
       "    .dataframe thead th {\n",
       "        text-align: right;\n",
       "    }\n",
       "</style>\n",
       "<table border=\"1\" class=\"dataframe\">\n",
       "  <thead>\n",
       "    <tr style=\"text-align: right;\">\n",
       "      <th></th>\n",
       "      <th>theta</th>\n",
       "      <th>n</th>\n",
       "      <th>Conf. Bayes.</th>\n",
       "      <th>Conf. Frec.</th>\n",
       "      <th>Prop. Bayes. &gt; 1</th>\n",
       "      <th>Prop. Frec. &gt; 1</th>\n",
       "    </tr>\n",
       "  </thead>\n",
       "  <tbody>\n",
       "    <tr>\n",
       "      <th>0</th>\n",
       "      <td>0.50</td>\n",
       "      <td>5</td>\n",
       "      <td>0.94</td>\n",
       "      <td>0.94</td>\n",
       "      <td>0.0</td>\n",
       "      <td>0.47</td>\n",
       "    </tr>\n",
       "    <tr>\n",
       "      <th>1</th>\n",
       "      <td>0.50</td>\n",
       "      <td>30</td>\n",
       "      <td>0.95</td>\n",
       "      <td>0.95</td>\n",
       "      <td>0.0</td>\n",
       "      <td>0.00</td>\n",
       "    </tr>\n",
       "    <tr>\n",
       "      <th>2</th>\n",
       "      <td>0.50</td>\n",
       "      <td>100</td>\n",
       "      <td>0.94</td>\n",
       "      <td>0.94</td>\n",
       "      <td>0.0</td>\n",
       "      <td>0.00</td>\n",
       "    </tr>\n",
       "    <tr>\n",
       "      <th>3</th>\n",
       "      <td>0.70</td>\n",
       "      <td>5</td>\n",
       "      <td>0.97</td>\n",
       "      <td>0.81</td>\n",
       "      <td>0.0</td>\n",
       "      <td>0.67</td>\n",
       "    </tr>\n",
       "    <tr>\n",
       "      <th>4</th>\n",
       "      <td>0.70</td>\n",
       "      <td>30</td>\n",
       "      <td>0.93</td>\n",
       "      <td>0.95</td>\n",
       "      <td>0.0</td>\n",
       "      <td>0.01</td>\n",
       "    </tr>\n",
       "    <tr>\n",
       "      <th>5</th>\n",
       "      <td>0.70</td>\n",
       "      <td>100</td>\n",
       "      <td>0.95</td>\n",
       "      <td>0.95</td>\n",
       "      <td>0.0</td>\n",
       "      <td>0.00</td>\n",
       "    </tr>\n",
       "    <tr>\n",
       "      <th>6</th>\n",
       "      <td>0.90</td>\n",
       "      <td>5</td>\n",
       "      <td>0.92</td>\n",
       "      <td>0.40</td>\n",
       "      <td>0.0</td>\n",
       "      <td>0.40</td>\n",
       "    </tr>\n",
       "    <tr>\n",
       "      <th>7</th>\n",
       "      <td>0.90</td>\n",
       "      <td>30</td>\n",
       "      <td>0.98</td>\n",
       "      <td>0.81</td>\n",
       "      <td>0.0</td>\n",
       "      <td>0.61</td>\n",
       "    </tr>\n",
       "    <tr>\n",
       "      <th>8</th>\n",
       "      <td>0.90</td>\n",
       "      <td>100</td>\n",
       "      <td>0.94</td>\n",
       "      <td>0.93</td>\n",
       "      <td>0.0</td>\n",
       "      <td>0.00</td>\n",
       "    </tr>\n",
       "    <tr>\n",
       "      <th>9</th>\n",
       "      <td>0.99</td>\n",
       "      <td>5</td>\n",
       "      <td>0.95</td>\n",
       "      <td>0.05</td>\n",
       "      <td>0.0</td>\n",
       "      <td>0.05</td>\n",
       "    </tr>\n",
       "    <tr>\n",
       "      <th>10</th>\n",
       "      <td>0.99</td>\n",
       "      <td>30</td>\n",
       "      <td>0.96</td>\n",
       "      <td>0.26</td>\n",
       "      <td>0.0</td>\n",
       "      <td>0.26</td>\n",
       "    </tr>\n",
       "    <tr>\n",
       "      <th>11</th>\n",
       "      <td>0.99</td>\n",
       "      <td>100</td>\n",
       "      <td>0.92</td>\n",
       "      <td>0.63</td>\n",
       "      <td>0.0</td>\n",
       "      <td>0.61</td>\n",
       "    </tr>\n",
       "  </tbody>\n",
       "</table>\n",
       "</div>"
      ],
      "text/plain": [
       "    theta    n  Conf. Bayes.  Conf. Frec.  Prop. Bayes. > 1  Prop. Frec. > 1\n",
       "0    0.50    5          0.94         0.94               0.0             0.47\n",
       "1    0.50   30          0.95         0.95               0.0             0.00\n",
       "2    0.50  100          0.94         0.94               0.0             0.00\n",
       "3    0.70    5          0.97         0.81               0.0             0.67\n",
       "4    0.70   30          0.93         0.95               0.0             0.01\n",
       "5    0.70  100          0.95         0.95               0.0             0.00\n",
       "6    0.90    5          0.92         0.40               0.0             0.40\n",
       "7    0.90   30          0.98         0.81               0.0             0.61\n",
       "8    0.90  100          0.94         0.93               0.0             0.00\n",
       "9    0.99    5          0.95         0.05               0.0             0.05\n",
       "10   0.99   30          0.96         0.26               0.0             0.26\n",
       "11   0.99  100          0.92         0.63               0.0             0.61"
      ]
     },
     "execution_count": 27,
     "metadata": {},
     "output_type": "execute_result"
    }
   ],
   "source": [
    "N = 10000\n",
    "out = []\n",
    "np.random.seed(1234)\n",
    "for theta in [0.5,0.7,0.9,0.99]:\n",
    "    for n in [5,30,100]:\n",
    "        cont_b = cont_f = 0\n",
    "        temp_b = temp_f = 0\n",
    "        for j in range(N):\n",
    "            # simular datos\n",
    "            s = st.binom.rvs(n = n, p = theta, size = 1)\n",
    "            # intervalo de credibilidad\n",
    "            ic = st.beta.ppf([0.025,0.975], 1 + s, 1 + n - s)\n",
    "            cont_b += ((ic[0] < theta) & (theta < ic[1]))\n",
    "            temp_b += (ic[1] > 1)\n",
    "            # intervalo de confianza\n",
    "            p = s/n\n",
    "            ic = p + np.array([-1,1])*st.norm.ppf(0.975)*np.sqrt(p*(1-p)/n)\n",
    "            cont_f += ((ic[0] < theta) & (theta < ic[1]))\n",
    "            temp_f += (ic[1] > 1)\n",
    "        out.append([theta, n, cont_b/N, cont_f/N, temp_b/N, temp_f/N])\n",
    "out = pd.DataFrame(data = out, columns = [\"theta\",\"n\",\"Conf. Bayes.\",\"Conf. Frec.\",\"Prop. Bayes. > 1\",\"Prop. Frec. > 1\"])\n",
    "round(out, 2)"
   ]
  },
  {
   "cell_type": "markdown",
   "id": "a7bc16a9",
   "metadata": {},
   "source": [
    "## 9 Referencias\n",
    "\n",
    "![Hoff](Hoffcoverbook.jpg)\n",
    "\n",
    "![Gelman](Gelmancoverbook.png)"
   ]
  }
 ],
 "metadata": {
  "kernelspec": {
   "display_name": "Python 3 (ipykernel)",
   "language": "python",
   "name": "python3"
  },
  "language_info": {
   "codemirror_mode": {
    "name": "ipython",
    "version": 3
   },
   "file_extension": ".py",
   "mimetype": "text/x-python",
   "name": "python",
   "nbconvert_exporter": "python",
   "pygments_lexer": "ipython3",
   "version": "3.9.7"
  }
 },
 "nbformat": 4,
 "nbformat_minor": 5
}
